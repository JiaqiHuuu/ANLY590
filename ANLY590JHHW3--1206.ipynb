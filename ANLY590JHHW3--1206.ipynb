{
  "nbformat": 4,
  "nbformat_minor": 0,
  "metadata": {
    "colab": {
      "name": "ANLY590JHHW3.ipynb",
      "provenance": [],
      "collapsed_sections": []
    },
    "kernelspec": {
      "name": "python3",
      "display_name": "Python 3"
    },
    "accelerator": "GPU"
  },
  "cells": [
    {
      "cell_type": "markdown",
      "metadata": {
        "id": "S3UwV3cDdjom",
        "colab_type": "text"
      },
      "source": [
        "# Homework 3\n",
        "## Jiaqi Hu \n",
        "### 1 Autoencoder"
      ]
    },
    {
      "cell_type": "code",
      "metadata": {
        "id": "K7fM8vbr3tGv",
        "colab_type": "code",
        "colab": {}
      },
      "source": [
        "from keras.layers import Input, Dense, Conv2D, MaxPooling2D, UpSampling2D\n",
        "from keras.models import Model\n",
        "from keras import backend as K\n",
        "\n",
        "input_img = Input(shape=(28, 28, 1))  # adapt this if using `channels_first` image data format\n",
        "\n",
        "x = Conv2D(64, (3, 3), activation='relu', padding='same')(input_img)\n",
        "x = MaxPooling2D((2, 2), padding='same')(x)\n",
        "x = Conv2D(32, (3, 3), activation='relu', padding='same')(x)\n",
        "x = MaxPooling2D((2, 2), padding='same')(x)\n",
        "x = Conv2D(32, (3, 3), activation='relu', padding='same')(x)\n",
        "encoded = MaxPooling2D((2, 2), padding='same')(x)\n",
        "\n",
        "# at this point the representation is (4, 4, 8) i.e. 128-dimensional\n",
        "\n",
        "x = Conv2D(32, (3, 3), activation='relu', padding='same')(encoded)\n",
        "x = UpSampling2D((2, 2))(x)\n",
        "x = Conv2D(32, (3, 3), activation='relu', padding='same')(x)\n",
        "x = UpSampling2D((2, 2))(x)\n",
        "x = Conv2D(64, (3, 3), activation='relu')(x)\n",
        "x = UpSampling2D((2, 2))(x)\n",
        "decoded = Conv2D(1, (3, 3), activation='sigmoid', padding='same')(x)\n",
        "\n",
        "autoencoder = Model(input_img, decoded)\n",
        "autoencoder.compile(optimizer='adadelta', loss='binary_crossentropy')"
      ],
      "execution_count": 0,
      "outputs": []
    },
    {
      "cell_type": "code",
      "metadata": {
        "id": "w98SofJn3tKW",
        "colab_type": "code",
        "colab": {}
      },
      "source": [
        "from keras.datasets import mnist\n",
        "from keras.datasets import fashion_mnist\n",
        "import numpy as np\n",
        "\n",
        "(x_train, _), (x_test, _) = fashion_mnist.load_data()\n",
        "\n",
        "x_train = x_train.astype('float32') / 255.\n",
        "x_test = x_test.astype('float32') / 255.\n",
        "x_train = np.reshape(x_train, (len(x_train), 28, 28, 1))  # adapt this if using `channels_first` image data format\n",
        "x_test = np.reshape(x_test, (len(x_test), 28, 28, 1))  # adapt this if using `channels_first` image data format"
      ],
      "execution_count": 0,
      "outputs": []
    },
    {
      "cell_type": "code",
      "metadata": {
        "id": "aB8HgUhhUBu7",
        "colab_type": "code",
        "outputId": "e42a24b7-303c-4bb3-949e-36f416c8d710",
        "colab": {
          "base_uri": "https://localhost:8080/",
          "height": 533
        }
      },
      "source": [
        "from keras.callbacks import TensorBoard\n",
        "\n",
        "history = autoencoder.fit(x_train, x_train,\n",
        "                epochs=15,\n",
        "                batch_size=128,\n",
        "                shuffle=True,\n",
        "                validation_data=(x_test, x_test),\n",
        "                callbacks=[TensorBoard(log_dir='/tmp/autoencoder')])"
      ],
      "execution_count": 0,
      "outputs": [
        {
          "output_type": "stream",
          "text": [
            "Train on 60000 samples, validate on 10000 samples\n",
            "Epoch 1/15\n",
            "60000/60000 [==============================] - 9s 142us/step - loss: 0.3483 - val_loss: 0.3072\n",
            "Epoch 2/15\n",
            "60000/60000 [==============================] - 6s 93us/step - loss: 0.3063 - val_loss: 0.3210\n",
            "Epoch 3/15\n",
            "60000/60000 [==============================] - 6s 93us/step - loss: 0.2971 - val_loss: 0.2972\n",
            "Epoch 4/15\n",
            "60000/60000 [==============================] - 6s 94us/step - loss: 0.2922 - val_loss: 0.2959\n",
            "Epoch 5/15\n",
            "60000/60000 [==============================] - 6s 94us/step - loss: 0.2884 - val_loss: 0.2861\n",
            "Epoch 6/15\n",
            "60000/60000 [==============================] - 6s 93us/step - loss: 0.2856 - val_loss: 0.2846\n",
            "Epoch 7/15\n",
            "60000/60000 [==============================] - 6s 94us/step - loss: 0.2833 - val_loss: 0.2848\n",
            "Epoch 8/15\n",
            "60000/60000 [==============================] - 6s 93us/step - loss: 0.2815 - val_loss: 0.2824\n",
            "Epoch 9/15\n",
            "60000/60000 [==============================] - 6s 93us/step - loss: 0.2800 - val_loss: 0.2808\n",
            "Epoch 10/15\n",
            "60000/60000 [==============================] - 6s 93us/step - loss: 0.2786 - val_loss: 0.2829\n",
            "Epoch 11/15\n",
            "60000/60000 [==============================] - 6s 93us/step - loss: 0.2776 - val_loss: 0.2850\n",
            "Epoch 12/15\n",
            "60000/60000 [==============================] - 6s 93us/step - loss: 0.2766 - val_loss: 0.2772\n",
            "Epoch 13/15\n",
            "60000/60000 [==============================] - 6s 93us/step - loss: 0.2757 - val_loss: 0.2771\n",
            "Epoch 14/15\n",
            "60000/60000 [==============================] - 6s 93us/step - loss: 0.2748 - val_loss: 0.2762\n",
            "Epoch 15/15\n",
            "60000/60000 [==============================] - 6s 93us/step - loss: 0.2742 - val_loss: 0.2758\n"
          ],
          "name": "stdout"
        }
      ]
    },
    {
      "cell_type": "code",
      "metadata": {
        "id": "yTUsgtwO3tOt",
        "colab_type": "code",
        "outputId": "e37ce211-1cc0-4188-945d-39d7992f4e8e",
        "colab": {
          "base_uri": "https://localhost:8080/",
          "height": 267
        }
      },
      "source": [
        "decoded_imgs = autoencoder.predict(x_test)\n",
        "import matplotlib.pyplot as plt\n",
        "n = 10\n",
        "plt.figure(figsize=(20, 4))\n",
        "for i in range(n):\n",
        "    # display original\n",
        "    ax = plt.subplot(2, n, i+1)\n",
        "    plt.imshow(x_test[i].reshape(28, 28))\n",
        "    plt.gray()\n",
        "    ax.get_xaxis().set_visible(False)\n",
        "    ax.get_yaxis().set_visible(False)\n",
        "\n",
        "    # display reconstruction\n",
        "    ax = plt.subplot(2, n, i + 1 + n)\n",
        "    plt.imshow(decoded_imgs[i].reshape(28, 28))\n",
        "    plt.gray()\n",
        "    ax.get_xaxis().set_visible(False)\n",
        "    ax.get_yaxis().set_visible(False)\n",
        "plt.show()"
      ],
      "execution_count": 0,
      "outputs": [
        {
          "output_type": "display_data",
          "data": {
            "image/png": "[encoded data removed]",
            "text/plain": [
              "<Figure size 1440x288 with 20 Axes>"
            ]
          },
          "metadata": {
            "tags": []
          }
        }
      ]
    },
    {
      "cell_type": "code",
      "metadata": {
        "id": "safelHw33tR1",
        "colab_type": "code",
        "colab": {}
      },
      "source": [
        ""
      ],
      "execution_count": 0,
      "outputs": []
    },
    {
      "cell_type": "markdown",
      "metadata": {
        "id": "ygHyZ2ILqpJf",
        "colab_type": "text"
      },
      "source": [
        "### 2 Image Classification\n",
        "#### 2.1 Deep CNN"
      ]
    },
    {
      "cell_type": "code",
      "metadata": {
        "id": "PsOXMy8E3tUP",
        "colab_type": "code",
        "outputId": "b447aed8-8bfc-43ae-b265-0f3d5a82b12b",
        "colab": {
          "base_uri": "https://localhost:8080/",
          "height": 33
        }
      },
      "source": [
        "from keras.applications import VGG16\n",
        "from keras.preprocessing import image\n",
        "import numpy as np\n",
        "from keras.datasets import fashion_mnist\n",
        "from keras.models import Sequential\n",
        "from keras.layers import Dense, Flatten, Conv2D, MaxPooling2D, Dropout\n",
        "from keras.utils import np_utils\n",
        "import matplotlib.pyplot as plt\n",
        "plt.viridis()"
      ],
      "execution_count": 0,
      "outputs": [
        {
          "output_type": "display_data",
          "data": {
            "text/plain": [
              "<Figure size 432x288 with 0 Axes>"
            ]
          },
          "metadata": {
            "tags": []
          }
        }
      ]
    },
    {
      "cell_type": "code",
      "metadata": {
        "id": "jKb5-Tsi3tW2",
        "colab_type": "code",
        "colab": {}
      },
      "source": [
        "(X_train, y_train), (X_test, y_test) = fashion_mnist.load_data()\n",
        "X_train = X_train.reshape(X_train.shape[0], 28, 28,1)\n",
        "X_test = X_test.reshape(X_test.shape[0], 28, 28,1)\n",
        "\n",
        "\n",
        "X_train = X_train.astype('float32')\n",
        "X_test = X_test.astype('float32')\n",
        "X_train /= 255\n",
        "X_test /= 255\n",
        "\n",
        "\n",
        "Y_train = np_utils.to_categorical(y_train, 10)\n",
        "Y_test = np_utils.to_categorical(y_test, 10)"
      ],
      "execution_count": 0,
      "outputs": []
    },
    {
      "cell_type": "code",
      "metadata": {
        "id": "yS2jV4GU3tZt",
        "colab_type": "code",
        "colab": {}
      },
      "source": [
        "model = Sequential()\n",
        "model.add(Conv2D(filters = 32,kernel_size=(3, 3), \n",
        "                 activation='relu', strides=(1, 1), \n",
        "                 padding='valid',\n",
        "                 input_shape=(28,28,1)))\n",
        "model.add(Conv2D(filters = 32,kernel_size=(3, 3), \n",
        "                 activation='relu', strides=(1, 1), \n",
        "                 padding='valid'))\n",
        "model.add(MaxPooling2D(pool_size=(2,2)))\n",
        "model.add(Conv2D(filters = 32,kernel_size=(3, 3), \n",
        "                 activation='relu', strides=(1, 1), \n",
        "                 padding='valid'))\n",
        "model.add(Dropout(0.25))\n",
        "model.add(Flatten())\n",
        "model.add(Dense(64, activation='relu'))\n",
        "model.add(Dropout(0.25))\n",
        "model.add(Dense(10, activation='softmax'))"
      ],
      "execution_count": 0,
      "outputs": []
    },
    {
      "cell_type": "code",
      "metadata": {
        "id": "AeA5YaFEk5d-",
        "colab_type": "code",
        "colab": {}
      },
      "source": [
        "model.compile(loss='categorical_crossentropy',\n",
        "              optimizer='adam',\n",
        "              metrics=['accuracy'])"
      ],
      "execution_count": 0,
      "outputs": []
    },
    {
      "cell_type": "code",
      "metadata": {
        "id": "_7lEzg7Ek5go",
        "colab_type": "code",
        "outputId": "3d87ef09-ee51-4738-c6c4-b3f127407e0f",
        "colab": {
          "base_uri": "https://localhost:8080/",
          "height": 1000
        }
      },
      "source": [
        "model_training = model.fit(X_train, Y_train, validation_data=(X_test, Y_test),\n",
        "          epochs=30, shuffle=True,\n",
        "          batch_size=128,\n",
        "         verbose = 1)"
      ],
      "execution_count": 0,
      "outputs": [
        {
          "output_type": "stream",
          "text": [
            "Train on 60000 samples, validate on 10000 samples\n",
            "Epoch 1/30\n",
            "60000/60000 [==============================] - 11s 185us/step - loss: 0.5854 - acc: 0.7872 - val_loss: 0.3837 - val_acc: 0.8607\n",
            "Epoch 2/30\n",
            "60000/60000 [==============================] - 4s 71us/step - loss: 0.3636 - acc: 0.8701 - val_loss: 0.3064 - val_acc: 0.8934\n",
            "Epoch 3/30\n",
            "60000/60000 [==============================] - 4s 72us/step - loss: 0.3098 - acc: 0.8883 - val_loss: 0.2764 - val_acc: 0.9012\n",
            "Epoch 4/30\n",
            "60000/60000 [==============================] - 4s 71us/step - loss: 0.2720 - acc: 0.9009 - val_loss: 0.2473 - val_acc: 0.9097\n",
            "Epoch 5/30\n",
            "60000/60000 [==============================] - 4s 71us/step - loss: 0.2504 - acc: 0.9095 - val_loss: 0.2434 - val_acc: 0.9106\n",
            "Epoch 6/30\n",
            "60000/60000 [==============================] - 4s 71us/step - loss: 0.2326 - acc: 0.9153 - val_loss: 0.2356 - val_acc: 0.9130\n",
            "Epoch 7/30\n",
            "60000/60000 [==============================] - 4s 72us/step - loss: 0.2172 - acc: 0.9218 - val_loss: 0.2250 - val_acc: 0.9185\n",
            "Epoch 8/30\n",
            "60000/60000 [==============================] - 4s 71us/step - loss: 0.2017 - acc: 0.9249 - val_loss: 0.2242 - val_acc: 0.9216\n",
            "Epoch 9/30\n",
            "60000/60000 [==============================] - 4s 72us/step - loss: 0.1921 - acc: 0.9285 - val_loss: 0.2227 - val_acc: 0.9219\n",
            "Epoch 10/30\n",
            "60000/60000 [==============================] - 4s 74us/step - loss: 0.1834 - acc: 0.9323 - val_loss: 0.2178 - val_acc: 0.9250\n",
            "Epoch 11/30\n",
            "60000/60000 [==============================] - 4s 72us/step - loss: 0.1668 - acc: 0.9382 - val_loss: 0.2163 - val_acc: 0.9242\n",
            "Epoch 12/30\n",
            "60000/60000 [==============================] - 4s 71us/step - loss: 0.1666 - acc: 0.9383 - val_loss: 0.2184 - val_acc: 0.9247\n",
            "Epoch 13/30\n",
            "60000/60000 [==============================] - 4s 71us/step - loss: 0.1574 - acc: 0.9403 - val_loss: 0.2225 - val_acc: 0.9258\n",
            "Epoch 14/30\n",
            "60000/60000 [==============================] - 4s 71us/step - loss: 0.1500 - acc: 0.9440 - val_loss: 0.2342 - val_acc: 0.9238\n",
            "Epoch 15/30\n",
            "60000/60000 [==============================] - 4s 71us/step - loss: 0.1441 - acc: 0.9448 - val_loss: 0.2205 - val_acc: 0.9245\n",
            "Epoch 16/30\n",
            "60000/60000 [==============================] - 4s 71us/step - loss: 0.1355 - acc: 0.9475 - val_loss: 0.2365 - val_acc: 0.9257\n",
            "Epoch 17/30\n",
            "60000/60000 [==============================] - 4s 71us/step - loss: 0.1324 - acc: 0.9498 - val_loss: 0.2339 - val_acc: 0.9229\n",
            "Epoch 18/30\n",
            "60000/60000 [==============================] - 4s 71us/step - loss: 0.1285 - acc: 0.9513 - val_loss: 0.2416 - val_acc: 0.9252\n",
            "Epoch 19/30\n",
            "60000/60000 [==============================] - 4s 71us/step - loss: 0.1264 - acc: 0.9520 - val_loss: 0.2309 - val_acc: 0.9220\n",
            "Epoch 20/30\n",
            "60000/60000 [==============================] - 4s 71us/step - loss: 0.1201 - acc: 0.9541 - val_loss: 0.2375 - val_acc: 0.9252\n",
            "Epoch 21/30\n",
            "60000/60000 [==============================] - 4s 72us/step - loss: 0.1168 - acc: 0.9547 - val_loss: 0.2569 - val_acc: 0.9256\n",
            "Epoch 22/30\n",
            "60000/60000 [==============================] - 4s 71us/step - loss: 0.1143 - acc: 0.9572 - val_loss: 0.2408 - val_acc: 0.9246\n",
            "Epoch 23/30\n",
            "60000/60000 [==============================] - 4s 72us/step - loss: 0.1100 - acc: 0.9582 - val_loss: 0.2607 - val_acc: 0.9208\n",
            "Epoch 24/30\n",
            "60000/60000 [==============================] - 4s 71us/step - loss: 0.1080 - acc: 0.9577 - val_loss: 0.2578 - val_acc: 0.9241\n",
            "Epoch 25/30\n",
            "60000/60000 [==============================] - 4s 71us/step - loss: 0.1049 - acc: 0.9595 - val_loss: 0.2445 - val_acc: 0.9242\n",
            "Epoch 26/30\n",
            "60000/60000 [==============================] - 4s 71us/step - loss: 0.1005 - acc: 0.9620 - val_loss: 0.2571 - val_acc: 0.9272\n",
            "Epoch 27/30\n",
            "60000/60000 [==============================] - 4s 71us/step - loss: 0.0974 - acc: 0.9631 - val_loss: 0.2489 - val_acc: 0.9251\n",
            "Epoch 28/30\n",
            "60000/60000 [==============================] - 4s 71us/step - loss: 0.0998 - acc: 0.9610 - val_loss: 0.2489 - val_acc: 0.9252\n",
            "Epoch 29/30\n",
            "60000/60000 [==============================] - 4s 72us/step - loss: 0.0959 - acc: 0.9631 - val_loss: 0.2645 - val_acc: 0.9233\n",
            "Epoch 30/30\n",
            "60000/60000 [==============================] - 4s 71us/step - loss: 0.0941 - acc: 0.9636 - val_loss: 0.2557 - val_acc: 0.9252\n"
          ],
          "name": "stdout"
        }
      ]
    },
    {
      "cell_type": "code",
      "metadata": {
        "id": "ek3Kj5DQk5im",
        "colab_type": "code",
        "outputId": "a52b6fa6-3bab-4f74-e11b-6a6d4bcfedef",
        "colab": {
          "base_uri": "https://localhost:8080/",
          "height": 314
        }
      },
      "source": [
        "plt.plot(range(1,31),model_training.history[\"acc\"],label='training')\n",
        "plt.plot(range(1,31),model_training.history['val_acc'],label='test')\n",
        "plt.title('Training and validation accuracy')\n",
        "plt.legend(loc = 'upper left')\n",
        "plt.figure()"
      ],
      "execution_count": 0,
      "outputs": [
        {
          "output_type": "execute_result",
          "data": {
            "text/plain": [
              "<Figure size 432x288 with 0 Axes>"
            ]
          },
          "metadata": {
            "tags": []
          },
          "execution_count": 365
        },
        {
          "output_type": "display_data",
          "data": {
            "image/png": "[encoded data removed]",
            "text/plain": [
              "<Figure size 432x288 with 1 Axes>"
            ]
          },
          "metadata": {
            "tags": []
          }
        },
        {
          "output_type": "display_data",
          "data": {
            "text/plain": [
              "<Figure size 432x288 with 0 Axes>"
            ]
          },
          "metadata": {
            "tags": []
          }
        }
      ]
    },
    {
      "cell_type": "code",
      "metadata": {
        "id": "mp0PysIlq3UQ",
        "colab_type": "code",
        "outputId": "bfc655f8-2582-4b25-ba25-6316d49cab01",
        "colab": {
          "base_uri": "https://localhost:8080/",
          "height": 314
        }
      },
      "source": [
        "plt.plot(range(1,31),model_training.history[\"loss\"],label='training')\n",
        "plt.plot(range(1,31),model_training.history['val_loss'],label='test')\n",
        "plt.title('Training and validation loss')\n",
        "plt.legend(loc = 'upper left')\n",
        "plt.figure()"
      ],
      "execution_count": 0,
      "outputs": [
        {
          "output_type": "execute_result",
          "data": {
            "text/plain": [
              "<Figure size 432x288 with 0 Axes>"
            ]
          },
          "metadata": {
            "tags": []
          },
          "execution_count": 366
        },
        {
          "output_type": "display_data",
          "data": {
            "image/png": "[encoded data removed]",
            "text/plain": [
              "<Figure size 432x288 with 1 Axes>"
            ]
          },
          "metadata": {
            "tags": []
          }
        },
        {
          "output_type": "display_data",
          "data": {
            "text/plain": [
              "<Figure size 432x288 with 0 Axes>"
            ]
          },
          "metadata": {
            "tags": []
          }
        }
      ]
    },
    {
      "cell_type": "code",
      "metadata": {
        "id": "VY8wxc8NuYTW",
        "colab_type": "code",
        "outputId": "c03625f8-9a4a-4227-f859-273c080a4364",
        "colab": {
          "base_uri": "https://localhost:8080/",
          "height": 33
        }
      },
      "source": [
        "score_train = model.evaluate(X_train,Y_train)"
      ],
      "execution_count": 0,
      "outputs": [
        {
          "output_type": "stream",
          "text": [
            "60000/60000 [==============================] - 5s 80us/step\n"
          ],
          "name": "stdout"
        }
      ]
    },
    {
      "cell_type": "code",
      "metadata": {
        "id": "dd9DpMUiu0rT",
        "colab_type": "code",
        "outputId": "a3a43883-f253-4214-f5a0-0682dca28c02",
        "colab": {
          "base_uri": "https://localhost:8080/",
          "height": 33
        }
      },
      "source": [
        "score_train"
      ],
      "execution_count": 0,
      "outputs": [
        {
          "output_type": "execute_result",
          "data": {
            "text/plain": [
              "[0.03953824028270319, 0.9893166666666666]"
            ]
          },
          "metadata": {
            "tags": []
          },
          "execution_count": 370
        }
      ]
    },
    {
      "cell_type": "code",
      "metadata": {
        "id": "wyWQhi_Nk5lR",
        "colab_type": "code",
        "outputId": "83651855-384c-4f78-c6bb-fba1ef8ffc21",
        "colab": {
          "base_uri": "https://localhost:8080/",
          "height": 33
        }
      },
      "source": [
        "score = model.evaluate(X_test, Y_test, verbose=1)"
      ],
      "execution_count": 0,
      "outputs": [
        {
          "output_type": "stream",
          "text": [
            "10000/10000 [==============================] - 1s 88us/step\n"
          ],
          "name": "stdout"
        }
      ]
    },
    {
      "cell_type": "code",
      "metadata": {
        "id": "58XckaFwk5rR",
        "colab_type": "code",
        "outputId": "b5d23a62-b64e-4cf2-895f-787abdd10feb",
        "colab": {
          "base_uri": "https://localhost:8080/",
          "height": 33
        }
      },
      "source": [
        "score"
      ],
      "execution_count": 0,
      "outputs": [
        {
          "output_type": "execute_result",
          "data": {
            "text/plain": [
              "[0.2556876685589552, 0.9252]"
            ]
          },
          "metadata": {
            "tags": []
          },
          "execution_count": 368
        }
      ]
    },
    {
      "cell_type": "markdown",
      "metadata": {
        "id": "A4Ua5S9ddlZ4",
        "colab_type": "text"
      },
      "source": [
        "kernel size = (3,3)  \n",
        "strides = (1,1)  \n",
        "padding = 'valid'  \n",
        "  \n",
        "  \n",
        "training accuracy: 0.9893  \n",
        "training loss: 0.040   \n",
        "test accuracy: 0.9252  \n",
        "test loss: 0.2557"
      ]
    },
    {
      "cell_type": "markdown",
      "metadata": {
        "id": "-7EHHYGtBPMT",
        "colab_type": "text"
      },
      "source": [
        "#### 2.2 Transfer Learning"
      ]
    },
    {
      "cell_type": "code",
      "metadata": {
        "id": "uXh1cLUSGH0H",
        "colab_type": "code",
        "colab": {}
      },
      "source": [
        "(train_X, train_Y), (test_X, test_Y) = fashion_mnist.load_data()\n",
        "train_X = train_X.astype('float32')/255\n",
        "test_X = test_X.astype('float32')/255"
      ],
      "execution_count": 0,
      "outputs": []
    },
    {
      "cell_type": "code",
      "metadata": {
        "id": "rS6dcFaIIJ4d",
        "colab_type": "code",
        "outputId": "cf0c2451-6f68-452c-fad1-9933237fbd9c",
        "colab": {
          "base_uri": "https://localhost:8080/",
          "height": 33
        }
      },
      "source": [
        "train_X = train_X.reshape(train_X.shape[0],28,28,1)\n",
        "test_X = test_X.reshape(test_X.shape[0],28,28,1)\n",
        "train_X.shape\n",
        "test_X.shape\n"
      ],
      "execution_count": 0,
      "outputs": [
        {
          "output_type": "execute_result",
          "data": {
            "text/plain": [
              "(10000, 28, 28, 1)"
            ]
          },
          "metadata": {
            "tags": []
          },
          "execution_count": 372
        }
      ]
    },
    {
      "cell_type": "code",
      "metadata": {
        "id": "nkIB1uWSDpCr",
        "colab_type": "code",
        "colab": {}
      },
      "source": [
        "import cv2\n",
        "train_X = np.asarray([cv2.resize(x,(32,32)) for x in train_X])\n",
        "test_X = np.asarray([cv2.resize(x,(32,32)) for x in test_X])"
      ],
      "execution_count": 0,
      "outputs": []
    },
    {
      "cell_type": "code",
      "metadata": {
        "id": "4GuQG4KeAmnk",
        "colab_type": "code",
        "colab": {}
      },
      "source": [
        "train_X = train_X.reshape(train_X.shape[0],32,32,1)\n",
        "test_X = test_X.reshape(test_X.shape[0],32,32,1)"
      ],
      "execution_count": 0,
      "outputs": []
    },
    {
      "cell_type": "code",
      "metadata": {
        "id": "3wfbANl6-tvm",
        "colab_type": "code",
        "colab": {}
      },
      "source": [
        "train_X = train_X.repeat(3, axis=-1)\n",
        "test_X = test_X.repeat(3, axis=-1)"
      ],
      "execution_count": 0,
      "outputs": []
    },
    {
      "cell_type": "code",
      "metadata": {
        "id": "iUWuFxmEAFCw",
        "colab_type": "code",
        "outputId": "7c5fbff7-26d1-4a7c-ca5f-add5659f017e",
        "colab": {
          "base_uri": "https://localhost:8080/",
          "height": 33
        }
      },
      "source": [
        "train_X.shape,test_X.shape"
      ],
      "execution_count": 0,
      "outputs": [
        {
          "output_type": "execute_result",
          "data": {
            "text/plain": [
              "((60000, 32, 32, 3), (10000, 32, 32, 3))"
            ]
          },
          "metadata": {
            "tags": []
          },
          "execution_count": 378
        }
      ]
    },
    {
      "cell_type": "code",
      "metadata": {
        "id": "aAMdQsN7GICa",
        "colab_type": "code",
        "colab": {}
      },
      "source": [
        "train_Y = np_utils.to_categorical(train_Y, 10)\n",
        "test_Y = np_utils.to_categorical(test_Y, 10)"
      ],
      "execution_count": 0,
      "outputs": []
    },
    {
      "cell_type": "code",
      "metadata": {
        "id": "aCAWQI83GIE2",
        "colab_type": "code",
        "colab": {}
      },
      "source": [
        "IMG_WIDTH = 32\n",
        "IMG_HEIGHT = 32\n",
        "IMG_DEPTH = 3\n",
        "BATCH_SIZE = 128"
      ],
      "execution_count": 0,
      "outputs": []
    },
    {
      "cell_type": "code",
      "metadata": {
        "id": "mEohOQuFk5x_",
        "colab_type": "code",
        "colab": {}
      },
      "source": [
        "conv_base = VGG16(weights=\"imagenet\",include_top=False,input_shape=(IMG_HEIGHT, IMG_WIDTH, IMG_DEPTH))\n",
        "conv_base.trainable=False"
      ],
      "execution_count": 0,
      "outputs": []
    },
    {
      "cell_type": "code",
      "metadata": {
        "id": "GOfqwPAVCGL9",
        "colab_type": "code",
        "colab": {}
      },
      "source": [
        "model1 = Sequential()\n",
        "model1.add(conv_base)\n",
        "#model1.add(Dropout(0.25))\n",
        "model1.add(Flatten())\n",
        "model1.add(Dense(64, activation=\"relu\"))\n",
        "model1.add(Dropout(0.25))\n",
        "model1.add(Dense(10, activation=\"softmax\"))"
      ],
      "execution_count": 0,
      "outputs": []
    },
    {
      "cell_type": "code",
      "metadata": {
        "id": "4V_OwVZ5CGOt",
        "colab_type": "code",
        "colab": {}
      },
      "source": [
        "model1.compile(loss='categorical_crossentropy',\n",
        "              optimizer='adam',\n",
        "              metrics=['accuracy'])"
      ],
      "execution_count": 0,
      "outputs": []
    },
    {
      "cell_type": "code",
      "metadata": {
        "id": "d2UGppHPGdmr",
        "colab_type": "code",
        "outputId": "9bc24a0e-a323-45a3-f19c-f4c1f7d93130",
        "colab": {
          "base_uri": "https://localhost:8080/",
          "height": 316
        }
      },
      "source": [
        "model1.summary()"
      ],
      "execution_count": 0,
      "outputs": [
        {
          "output_type": "stream",
          "text": [
            "Model: \"sequential_44\"\n",
            "_________________________________________________________________\n",
            "Layer (type)                 Output Shape              Param #   \n",
            "=================================================================\n",
            "vgg16 (Model)                (None, 1, 1, 512)         14714688  \n",
            "_________________________________________________________________\n",
            "flatten_15 (Flatten)         (None, 512)               0         \n",
            "_________________________________________________________________\n",
            "dense_56 (Dense)             (None, 64)                32832     \n",
            "_________________________________________________________________\n",
            "dropout_37 (Dropout)         (None, 64)                0         \n",
            "_________________________________________________________________\n",
            "dense_57 (Dense)             (None, 10)                650       \n",
            "=================================================================\n",
            "Total params: 14,748,170\n",
            "Trainable params: 33,482\n",
            "Non-trainable params: 14,714,688\n",
            "_________________________________________________________________\n"
          ],
          "name": "stdout"
        }
      ]
    },
    {
      "cell_type": "code",
      "metadata": {
        "id": "nrCmDrU1CGQf",
        "colab_type": "code",
        "outputId": "df227e33-8ff8-4e9d-9956-9ad2b7c6dc89",
        "colab": {
          "base_uri": "https://localhost:8080/",
          "height": 1000
        }
      },
      "source": [
        "model1_training = model1.fit(train_X, train_Y,\n",
        "          epochs=30,validation_data=(test_X, test_Y),\n",
        "          batch_size=128, shuffle=True,\n",
        "         verbose = 1)"
      ],
      "execution_count": 0,
      "outputs": [
        {
          "output_type": "stream",
          "text": [
            "Train on 60000 samples, validate on 10000 samples\n",
            "Epoch 1/30\n",
            "60000/60000 [==============================] - 18s 299us/step - loss: 0.7860 - acc: 0.7317 - val_loss: 0.5147 - val_acc: 0.8193\n",
            "Epoch 2/30\n",
            "60000/60000 [==============================] - 11s 182us/step - loss: 0.5171 - acc: 0.8168 - val_loss: 0.4633 - val_acc: 0.8341\n",
            "Epoch 3/30\n",
            "60000/60000 [==============================] - 11s 181us/step - loss: 0.4673 - acc: 0.8323 - val_loss: 0.4321 - val_acc: 0.8411\n",
            "Epoch 4/30\n",
            "60000/60000 [==============================] - 11s 181us/step - loss: 0.4430 - acc: 0.8398 - val_loss: 0.4191 - val_acc: 0.8439\n",
            "Epoch 5/30\n",
            "60000/60000 [==============================] - 11s 180us/step - loss: 0.4214 - acc: 0.8483 - val_loss: 0.4114 - val_acc: 0.8458\n",
            "Epoch 6/30\n",
            "60000/60000 [==============================] - 11s 180us/step - loss: 0.4091 - acc: 0.8528 - val_loss: 0.4004 - val_acc: 0.8532\n",
            "Epoch 7/30\n",
            "60000/60000 [==============================] - 11s 180us/step - loss: 0.3974 - acc: 0.8550 - val_loss: 0.3948 - val_acc: 0.8509\n",
            "Epoch 8/30\n",
            "60000/60000 [==============================] - 11s 181us/step - loss: 0.3891 - acc: 0.8586 - val_loss: 0.3901 - val_acc: 0.8549\n",
            "Epoch 9/30\n",
            "60000/60000 [==============================] - 11s 181us/step - loss: 0.3820 - acc: 0.8603 - val_loss: 0.3843 - val_acc: 0.8582\n",
            "Epoch 10/30\n",
            "60000/60000 [==============================] - 11s 181us/step - loss: 0.3723 - acc: 0.8641 - val_loss: 0.3816 - val_acc: 0.8573\n",
            "Epoch 11/30\n",
            "60000/60000 [==============================] - 11s 181us/step - loss: 0.3678 - acc: 0.8652 - val_loss: 0.3777 - val_acc: 0.8601\n",
            "Epoch 12/30\n",
            "60000/60000 [==============================] - 11s 180us/step - loss: 0.3611 - acc: 0.8664 - val_loss: 0.3741 - val_acc: 0.8649\n",
            "Epoch 13/30\n",
            "60000/60000 [==============================] - 11s 181us/step - loss: 0.3563 - acc: 0.8696 - val_loss: 0.3749 - val_acc: 0.8576\n",
            "Epoch 14/30\n",
            "60000/60000 [==============================] - 11s 181us/step - loss: 0.3525 - acc: 0.8692 - val_loss: 0.3767 - val_acc: 0.8591\n",
            "Epoch 15/30\n",
            "60000/60000 [==============================] - 11s 180us/step - loss: 0.3466 - acc: 0.8730 - val_loss: 0.3715 - val_acc: 0.8611\n",
            "Epoch 16/30\n",
            "60000/60000 [==============================] - 11s 181us/step - loss: 0.3428 - acc: 0.8752 - val_loss: 0.3697 - val_acc: 0.8617\n",
            "Epoch 17/30\n",
            "60000/60000 [==============================] - 11s 181us/step - loss: 0.3402 - acc: 0.8753 - val_loss: 0.3713 - val_acc: 0.8622\n",
            "Epoch 18/30\n",
            "60000/60000 [==============================] - 11s 181us/step - loss: 0.3357 - acc: 0.8758 - val_loss: 0.3732 - val_acc: 0.8640\n",
            "Epoch 19/30\n",
            "60000/60000 [==============================] - 11s 181us/step - loss: 0.3332 - acc: 0.8768 - val_loss: 0.3699 - val_acc: 0.8632\n",
            "Epoch 20/30\n",
            "60000/60000 [==============================] - 11s 181us/step - loss: 0.3284 - acc: 0.8785 - val_loss: 0.3720 - val_acc: 0.8663\n",
            "Epoch 21/30\n",
            "60000/60000 [==============================] - 11s 181us/step - loss: 0.3270 - acc: 0.8800 - val_loss: 0.3650 - val_acc: 0.8680\n",
            "Epoch 22/30\n",
            "60000/60000 [==============================] - 11s 180us/step - loss: 0.3225 - acc: 0.8799 - val_loss: 0.3664 - val_acc: 0.8650\n",
            "Epoch 23/30\n",
            "60000/60000 [==============================] - 11s 181us/step - loss: 0.3212 - acc: 0.8809 - val_loss: 0.3705 - val_acc: 0.8690\n",
            "Epoch 24/30\n",
            "60000/60000 [==============================] - 11s 181us/step - loss: 0.3179 - acc: 0.8830 - val_loss: 0.3653 - val_acc: 0.8674\n",
            "Epoch 25/30\n",
            "60000/60000 [==============================] - 11s 182us/step - loss: 0.3131 - acc: 0.8854 - val_loss: 0.3645 - val_acc: 0.8664\n",
            "Epoch 26/30\n",
            "60000/60000 [==============================] - 11s 182us/step - loss: 0.3127 - acc: 0.8838 - val_loss: 0.3650 - val_acc: 0.8698\n",
            "Epoch 27/30\n",
            "60000/60000 [==============================] - 11s 181us/step - loss: 0.3138 - acc: 0.8833 - val_loss: 0.3624 - val_acc: 0.8683\n",
            "Epoch 28/30\n",
            "60000/60000 [==============================] - 11s 181us/step - loss: 0.3064 - acc: 0.8867 - val_loss: 0.3633 - val_acc: 0.8723\n",
            "Epoch 29/30\n",
            "60000/60000 [==============================] - 11s 180us/step - loss: 0.3042 - acc: 0.8874 - val_loss: 0.3689 - val_acc: 0.8696\n",
            "Epoch 30/30\n",
            "60000/60000 [==============================] - 11s 180us/step - loss: 0.3028 - acc: 0.8873 - val_loss: 0.3776 - val_acc: 0.8624\n"
          ],
          "name": "stdout"
        }
      ]
    },
    {
      "cell_type": "code",
      "metadata": {
        "id": "aN1GOsAfCGSv",
        "colab_type": "code",
        "outputId": "e81425fd-3a9e-4804-e303-7de91507c6cc",
        "colab": {
          "base_uri": "https://localhost:8080/",
          "height": 314
        }
      },
      "source": [
        "plt.plot(range(1,31),model1_training.history[\"acc\"],label='training')\n",
        "plt.plot(range(1,31),model1_training.history['val_acc'],label='test')\n",
        "plt.title('Training and validation accuracy')\n",
        "plt.legend(loc = 'lower right')\n",
        "plt.figure()"
      ],
      "execution_count": 0,
      "outputs": [
        {
          "output_type": "execute_result",
          "data": {
            "text/plain": [
              "<Figure size 432x288 with 0 Axes>"
            ]
          },
          "metadata": {
            "tags": []
          },
          "execution_count": 386
        },
        {
          "output_type": "display_data",
          "data": {
            "image/png": "[encoded data removed]",
            "text/plain": [
              "<Figure size 432x288 with 1 Axes>"
            ]
          },
          "metadata": {
            "tags": []
          }
        },
        {
          "output_type": "display_data",
          "data": {
            "text/plain": [
              "<Figure size 432x288 with 0 Axes>"
            ]
          },
          "metadata": {
            "tags": []
          }
        }
      ]
    },
    {
      "cell_type": "code",
      "metadata": {
        "id": "IRt-HtdKsD_q",
        "colab_type": "code",
        "outputId": "fb774660-3b52-42b5-f0b0-c6218d66c74e",
        "colab": {
          "base_uri": "https://localhost:8080/",
          "height": 314
        }
      },
      "source": [
        "plt.plot(range(1,31),model1_training.history[\"loss\"],label='training')\n",
        "plt.plot(range(1,31),model1_training.history['val_loss'],label='test')\n",
        "plt.title('Training and validation loss')\n",
        "plt.legend(loc = 'upper right')\n",
        "plt.figure()"
      ],
      "execution_count": 0,
      "outputs": [
        {
          "output_type": "execute_result",
          "data": {
            "text/plain": [
              "<Figure size 432x288 with 0 Axes>"
            ]
          },
          "metadata": {
            "tags": []
          },
          "execution_count": 387
        },
        {
          "output_type": "display_data",
          "data": {
            "image/png": "[encoded data removed]",
            "text/plain": [
              "<Figure size 432x288 with 1 Axes>"
            ]
          },
          "metadata": {
            "tags": []
          }
        },
        {
          "output_type": "display_data",
          "data": {
            "text/plain": [
              "<Figure size 432x288 with 0 Axes>"
            ]
          },
          "metadata": {
            "tags": []
          }
        }
      ]
    },
    {
      "cell_type": "code",
      "metadata": {
        "id": "fi3WcGqpCGVQ",
        "colab_type": "code",
        "outputId": "61e7f3bf-ceef-4c25-9a61-d15bf4c6624d",
        "colab": {
          "base_uri": "https://localhost:8080/",
          "height": 33
        }
      },
      "source": [
        "score_train1 = model1.evaluate(train_X,train_Y)"
      ],
      "execution_count": 0,
      "outputs": [
        {
          "output_type": "stream",
          "text": [
            "60000/60000 [==============================] - 17s 286us/step\n"
          ],
          "name": "stdout"
        }
      ]
    },
    {
      "cell_type": "code",
      "metadata": {
        "id": "iguBOpL5CGXF",
        "colab_type": "code",
        "outputId": "6e01273e-73a5-49bd-f142-ca753b0de40f",
        "colab": {
          "base_uri": "https://localhost:8080/",
          "height": 33
        }
      },
      "source": [
        "score1 = model1.evaluate(test_X, test_Y, verbose=1)"
      ],
      "execution_count": 0,
      "outputs": [
        {
          "output_type": "stream",
          "text": [
            "10000/10000 [==============================] - 3s 285us/step\n"
          ],
          "name": "stdout"
        }
      ]
    },
    {
      "cell_type": "code",
      "metadata": {
        "id": "39XqU0lcCGZE",
        "colab_type": "code",
        "outputId": "ebaeb08e-ada0-4c92-9933-72b588d17621",
        "colab": {
          "base_uri": "https://localhost:8080/",
          "height": 33
        }
      },
      "source": [
        "score_train1"
      ],
      "execution_count": 0,
      "outputs": [
        {
          "output_type": "execute_result",
          "data": {
            "text/plain": [
              "[0.27022660148541133, 0.8966166666666666]"
            ]
          },
          "metadata": {
            "tags": []
          },
          "execution_count": 389
        }
      ]
    },
    {
      "cell_type": "code",
      "metadata": {
        "id": "UgI1XcjAU8SN",
        "colab_type": "code",
        "outputId": "bc19cc61-0c22-4a90-f7f1-9f5adf93e550",
        "colab": {
          "base_uri": "https://localhost:8080/",
          "height": 33
        }
      },
      "source": [
        "score1"
      ],
      "execution_count": 0,
      "outputs": [
        {
          "output_type": "execute_result",
          "data": {
            "text/plain": [
              "[0.37759087030887606, 0.8624]"
            ]
          },
          "metadata": {
            "tags": []
          },
          "execution_count": 392
        }
      ]
    },
    {
      "cell_type": "markdown",
      "metadata": {
        "id": "ArVxVeUreJYy",
        "colab_type": "text"
      },
      "source": [
        "training accuracy: 0.8966  \n",
        "training loss: 0.2702   \n",
        "test accuracy: 0.8624  \n",
        "test loss: 0.3776"
      ]
    },
    {
      "cell_type": "markdown",
      "metadata": {
        "id": "xp5mlN0A3q84",
        "colab_type": "text"
      },
      "source": [
        "### 3 Text Classification\n",
        "#### 3.1 RNN\n",
        "SimpleRNN"
      ]
    },
    {
      "cell_type": "code",
      "metadata": {
        "id": "FaXDEM8ndi0G",
        "colab_type": "code",
        "colab": {}
      },
      "source": [
        "import pandas as pd\n",
        "from google.colab import files"
      ],
      "execution_count": 0,
      "outputs": []
    },
    {
      "cell_type": "code",
      "metadata": {
        "colab_type": "code",
        "outputId": "d7bac1ff-f6a3-4cc4-e576-471c0d6e454c",
        "id": "bF2hLJRhSO0L",
        "colab": {
          "resources": {
            "http://localhost:8080/nbextensions/google.colab/files.js": {
              "data": "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",
              "ok": true,
              "headers": [
                [
                  "content-type",
                  "application/javascript"
                ]
              ],
              "status": 200,
              "status_text": ""
            }
          },
          "base_uri": "https://localhost:8080/",
          "height": 75
        }
      },
      "source": [
        "uploaded = files.upload()"
      ],
      "execution_count": 4,
      "outputs": [
        {
          "output_type": "display_data",
          "data": {
            "text/html": [
              "\n",
              "     <input type=\"file\" id=\"files-7de9f34d-1473-4d8a-8e1d-6a0b8c17ea8a\" name=\"files[]\" multiple disabled />\n",
              "     <output id=\"result-7de9f34d-1473-4d8a-8e1d-6a0b8c17ea8a\">\n",
              "      Upload widget is only available when the cell has been executed in the\n",
              "      current browser session. Please rerun this cell to enable.\n",
              "      </output>\n",
              "      <script src=\"/nbextensions/google.colab/files.js\"></script> "
            ],
            "text/plain": [
              "<IPython.core.display.HTML object>"
            ]
          },
          "metadata": {
            "tags": []
          }
        },
        {
          "output_type": "stream",
          "text": [
            "Saving tweets_with_labels.csv to tweets_with_labels.csv\n"
          ],
          "name": "stdout"
        }
      ]
    },
    {
      "cell_type": "code",
      "metadata": {
        "id": "jiTVeXIfiUbc",
        "colab_type": "code",
        "colab": {}
      },
      "source": [
        "import io"
      ],
      "execution_count": 0,
      "outputs": []
    },
    {
      "cell_type": "code",
      "metadata": {
        "id": "YvwSrzirdi2Y",
        "colab_type": "code",
        "colab": {}
      },
      "source": [
        "data = io.BytesIO(uploaded['tweets_with_labels.csv']) "
      ],
      "execution_count": 0,
      "outputs": []
    },
    {
      "cell_type": "code",
      "metadata": {
        "id": "_I9FgCwddi6q",
        "colab_type": "code",
        "colab": {}
      },
      "source": [
        "df = pd.read_csv(data,delimiter='\\t')"
      ],
      "execution_count": 0,
      "outputs": []
    },
    {
      "cell_type": "code",
      "metadata": {
        "id": "taCmoxAH2B21",
        "colab_type": "code",
        "outputId": "19c47964-d664-4dbb-ad45-e1a5c2dfa9b4",
        "colab": {
          "base_uri": "https://localhost:8080/",
          "height": 231
        }
      },
      "source": [
        "df.head()"
      ],
      "execution_count": 0,
      "outputs": [
        {
          "output_type": "execute_result",
          "data": {
            "text/html": [
              "<div>\n",
              "<style scoped>\n",
              "    .dataframe tbody tr th:only-of-type {\n",
              "        vertical-align: middle;\n",
              "    }\n",
              "\n",
              "    .dataframe tbody tr th {\n",
              "        vertical-align: top;\n",
              "    }\n",
              "\n",
              "    .dataframe thead th {\n",
              "        text-align: right;\n",
              "    }\n",
              "</style>\n",
              "<table border=\"1\" class=\"dataframe\">\n",
              "  <thead>\n",
              "    <tr style=\"text-align: right;\">\n",
              "      <th></th>\n",
              "      <th>id</th>\n",
              "      <th>tweet</th>\n",
              "      <th>k1</th>\n",
              "      <th>k2</th>\n",
              "      <th>k3</th>\n",
              "      <th>k4</th>\n",
              "      <th>k5</th>\n",
              "      <th>k6</th>\n",
              "      <th>k7</th>\n",
              "      <th>k8</th>\n",
              "      <th>k9</th>\n",
              "      <th>k10</th>\n",
              "      <th>k11</th>\n",
              "      <th>k12</th>\n",
              "      <th>k13</th>\n",
              "      <th>k14</th>\n",
              "      <th>k15</th>\n",
              "    </tr>\n",
              "  </thead>\n",
              "  <tbody>\n",
              "    <tr>\n",
              "      <th>0</th>\n",
              "      <td>1</td>\n",
              "      <td>Jazz for a Rainy Afternoon:  {link}</td>\n",
              "      <td>0.0</td>\n",
              "      <td>0.0</td>\n",
              "      <td>0.0</td>\n",
              "      <td>0.0</td>\n",
              "      <td>0.0</td>\n",
              "      <td>0.0</td>\n",
              "      <td>0.000</td>\n",
              "      <td>0.0</td>\n",
              "      <td>0.000</td>\n",
              "      <td>1.0</td>\n",
              "      <td>0.0</td>\n",
              "      <td>0.0</td>\n",
              "      <td>0.000</td>\n",
              "      <td>0.0</td>\n",
              "      <td>0.0</td>\n",
              "    </tr>\n",
              "    <tr>\n",
              "      <th>1</th>\n",
              "      <td>2</td>\n",
              "      <td>RT: @mention: I love rainy days.</td>\n",
              "      <td>0.0</td>\n",
              "      <td>0.0</td>\n",
              "      <td>0.0</td>\n",
              "      <td>0.0</td>\n",
              "      <td>0.0</td>\n",
              "      <td>0.0</td>\n",
              "      <td>0.000</td>\n",
              "      <td>0.0</td>\n",
              "      <td>0.000</td>\n",
              "      <td>1.0</td>\n",
              "      <td>0.0</td>\n",
              "      <td>0.0</td>\n",
              "      <td>0.000</td>\n",
              "      <td>0.0</td>\n",
              "      <td>0.0</td>\n",
              "    </tr>\n",
              "    <tr>\n",
              "      <th>2</th>\n",
              "      <td>3</td>\n",
              "      <td>Good Morning Chicago! Time to kick the Windy C...</td>\n",
              "      <td>0.0</td>\n",
              "      <td>0.0</td>\n",
              "      <td>0.0</td>\n",
              "      <td>0.0</td>\n",
              "      <td>0.0</td>\n",
              "      <td>0.0</td>\n",
              "      <td>1.000</td>\n",
              "      <td>0.0</td>\n",
              "      <td>0.000</td>\n",
              "      <td>0.0</td>\n",
              "      <td>0.0</td>\n",
              "      <td>0.0</td>\n",
              "      <td>0.000</td>\n",
              "      <td>0.0</td>\n",
              "      <td>0.0</td>\n",
              "    </tr>\n",
              "    <tr>\n",
              "      <th>3</th>\n",
              "      <td>6</td>\n",
              "      <td>Preach lol! :) RT @mention: #alliwantis this t...</td>\n",
              "      <td>0.0</td>\n",
              "      <td>0.0</td>\n",
              "      <td>0.0</td>\n",
              "      <td>0.0</td>\n",
              "      <td>0.0</td>\n",
              "      <td>0.0</td>\n",
              "      <td>0.604</td>\n",
              "      <td>0.0</td>\n",
              "      <td>0.196</td>\n",
              "      <td>0.0</td>\n",
              "      <td>0.0</td>\n",
              "      <td>0.0</td>\n",
              "      <td>0.201</td>\n",
              "      <td>0.0</td>\n",
              "      <td>0.0</td>\n",
              "    </tr>\n",
              "    <tr>\n",
              "      <th>4</th>\n",
              "      <td>9</td>\n",
              "      <td>@mention good morning sunshine</td>\n",
              "      <td>0.0</td>\n",
              "      <td>0.0</td>\n",
              "      <td>0.0</td>\n",
              "      <td>0.0</td>\n",
              "      <td>0.0</td>\n",
              "      <td>0.0</td>\n",
              "      <td>0.000</td>\n",
              "      <td>0.0</td>\n",
              "      <td>0.000</td>\n",
              "      <td>0.0</td>\n",
              "      <td>0.0</td>\n",
              "      <td>0.0</td>\n",
              "      <td>1.000</td>\n",
              "      <td>0.0</td>\n",
              "      <td>0.0</td>\n",
              "    </tr>\n",
              "  </tbody>\n",
              "</table>\n",
              "</div>"
            ],
            "text/plain": [
              "   id                                              tweet   k1  ...    k13  k14  k15\n",
              "0   1                Jazz for a Rainy Afternoon:  {link}  0.0  ...  0.000  0.0  0.0\n",
              "1   2                   RT: @mention: I love rainy days.  0.0  ...  0.000  0.0  0.0\n",
              "2   3  Good Morning Chicago! Time to kick the Windy C...  0.0  ...  0.000  0.0  0.0\n",
              "3   6  Preach lol! :) RT @mention: #alliwantis this t...  0.0  ...  0.201  0.0  0.0\n",
              "4   9                     @mention good morning sunshine  0.0  ...  1.000  0.0  0.0\n",
              "\n",
              "[5 rows x 17 columns]"
            ]
          },
          "metadata": {
            "tags": []
          },
          "execution_count": 393
        }
      ]
    },
    {
      "cell_type": "code",
      "metadata": {
        "id": "Cy1FdwXPSeEs",
        "colab_type": "code",
        "colab": {}
      },
      "source": [
        "from gensim.corpora import Dictionary"
      ],
      "execution_count": 0,
      "outputs": []
    },
    {
      "cell_type": "code",
      "metadata": {
        "id": "k0R9c649SeHH",
        "colab_type": "code",
        "colab": {}
      },
      "source": [
        "tweet = list(df['tweet'].map(lambda x:list(x)))\n",
        "dct = Dictionary(tweet)"
      ],
      "execution_count": 0,
      "outputs": []
    },
    {
      "cell_type": "code",
      "metadata": {
        "id": "loSR5mHiSeJW",
        "colab_type": "code",
        "outputId": "6d3f51f7-3274-450c-accb-8d43a38cb523",
        "colab": {
          "base_uri": "https://localhost:8080/",
          "height": 33
        }
      },
      "source": [
        "X = list(df['tweet'].map(lambda x: dct.doc2idx(list(x))))\n",
        "print(X[0],df['tweet'][0])"
      ],
      "execution_count": 10,
      "outputs": [
        {
          "output_type": "stream",
          "text": [
            "[3, 5, 16, 16, 0, 7, 12, 13, 0, 5, 0, 4, 5, 8, 11, 15, 0, 2, 7, 14, 6, 13, 11, 12, 12, 11, 1, 0, 0, 17, 10, 8, 11, 9, 18] Jazz for a Rainy Afternoon:  {link}\n"
          ],
          "name": "stdout"
        }
      ]
    },
    {
      "cell_type": "code",
      "metadata": {
        "id": "-aI7N132SeSq",
        "colab_type": "code",
        "colab": {}
      },
      "source": [
        "y = df.loc[:,'k1':'k15']"
      ],
      "execution_count": 0,
      "outputs": []
    },
    {
      "cell_type": "code",
      "metadata": {
        "id": "QlqWXzUZSeXe",
        "colab_type": "code",
        "colab": {}
      },
      "source": [
        "from sklearn.model_selection import train_test_split\n",
        "X_train, X_test, y_train, y_test = train_test_split(X, y, test_size=0.3, random_state=1)"
      ],
      "execution_count": 0,
      "outputs": []
    },
    {
      "cell_type": "code",
      "metadata": {
        "id": "PTistss8SeUo",
        "colab_type": "code",
        "outputId": "a6f3747b-8555-454a-cf84-a297f130f2d6",
        "colab": {
          "base_uri": "https://localhost:8080/",
          "height": 33
        }
      },
      "source": [
        "y_test.shape"
      ],
      "execution_count": 0,
      "outputs": [
        {
          "output_type": "execute_result",
          "data": {
            "text/plain": [
              "(23384, 15)"
            ]
          },
          "metadata": {
            "tags": []
          },
          "execution_count": 290
        }
      ]
    },
    {
      "cell_type": "code",
      "metadata": {
        "id": "LJHfi31x_rJF",
        "colab_type": "code",
        "colab": {
          "base_uri": "https://localhost:8080/",
          "height": 78
        },
        "outputId": "33885319-a5e1-481b-e041-f393dfc68fa4"
      },
      "source": [
        "from keras.models import Sequential\n",
        "from keras.layers import Dense, SimpleRNN, LSTM, Embedding\n",
        "from keras.preprocessing.text import Tokenizer, one_hot\n",
        "from keras.optimizers import RMSprop\n",
        "from keras.preprocessing import sequence"
      ],
      "execution_count": 13,
      "outputs": [
        {
          "output_type": "stream",
          "text": [
            "Using TensorFlow backend.\n"
          ],
          "name": "stderr"
        },
        {
          "output_type": "display_data",
          "data": {
            "text/html": [
              "<p style=\"color: red;\">\n",
              "The default version of TensorFlow in Colab will soon switch to TensorFlow 2.x.<br>\n",
              "We recommend you <a href=\"https://www.tensorflow.org/guide/migrate\" target=\"_blank\">upgrade</a> now \n",
              "or ensure your notebook will continue to use TensorFlow 1.x via the <code>%tensorflow_version 1.x</code> magic:\n",
              "<a href=\"https://colab.research.google.com/notebooks/tensorflow_version.ipynb\" target=\"_blank\">more info</a>.</p>\n"
            ],
            "text/plain": [
              "<IPython.core.display.HTML object>"
            ]
          },
          "metadata": {
            "tags": []
          }
        }
      ]
    },
    {
      "cell_type": "code",
      "metadata": {
        "id": "pSq-Rdt8AH6k",
        "colab_type": "code",
        "outputId": "d54ad1d0-e5e0-494a-b35e-06ee02042b95",
        "colab": {
          "base_uri": "https://localhost:8080/",
          "height": 33
        }
      },
      "source": [
        "maxlen = 50\n",
        "max_features = len(dct)\n",
        "max_features"
      ],
      "execution_count": 14,
      "outputs": [
        {
          "output_type": "execute_result",
          "data": {
            "text/plain": [
              "94"
            ]
          },
          "metadata": {
            "tags": []
          },
          "execution_count": 14
        }
      ]
    },
    {
      "cell_type": "code",
      "metadata": {
        "id": "Mhj158ahBC7x",
        "colab_type": "code",
        "outputId": "1b6d4f12-b141-484e-e5f7-3816e051c123",
        "colab": {
          "base_uri": "https://localhost:8080/",
          "height": 83
        }
      },
      "source": [
        "X_train = sequence.pad_sequences(X_train, maxlen, padding=\"post\", truncating=\"post\")\n",
        "X_test = sequence.pad_sequences(X_test, maxlen, padding=\"post\", truncating=\"post\")\n",
        "X_train[0]"
      ],
      "execution_count": 15,
      "outputs": [
        {
          "output_type": "execute_result",
          "data": {
            "text/plain": [
              "array([31,  6,  5, 14, 35,  6, 13,  0, 68, 10, 12, 34,  0, 17, 10,  8, 11,\n",
              "        9, 18,  0,  0,  0,  0,  0,  0,  0,  0,  0,  0,  0,  0,  0,  0,  0,\n",
              "        0,  0,  0,  0,  0,  0,  0,  0,  0,  0,  0,  0,  0,  0,  0,  0],\n",
              "      dtype=int32)"
            ]
          },
          "metadata": {
            "tags": []
          },
          "execution_count": 15
        }
      ]
    },
    {
      "cell_type": "markdown",
      "metadata": {
        "id": "FBonJQM2f8uh",
        "colab_type": "text"
      },
      "source": [
        "Categorical CrossEntropy:"
      ]
    },
    {
      "cell_type": "code",
      "metadata": {
        "id": "BKezJ8GLSeP-",
        "colab_type": "code",
        "colab": {}
      },
      "source": [
        "rnn = Sequential()\n",
        "rnn.add(Embedding(max_features, maxlen))\n",
        "rnn.add(SimpleRNN(32))\n",
        "rnn.add(Dense(15, activation='softmax'))"
      ],
      "execution_count": 0,
      "outputs": []
    },
    {
      "cell_type": "code",
      "metadata": {
        "id": "TZNN_fgdSeNn",
        "colab_type": "code",
        "outputId": "3aa9a8ae-7a5c-438b-ecd5-3c902bbe7dc6",
        "colab": {
          "base_uri": "https://localhost:8080/",
          "height": 266
        }
      },
      "source": [
        "rnn.compile(optimizer=\"rmsprop\", loss=\"categorical_crossentropy\", metrics=[\"acc\"])\n",
        "print(rnn.summary())"
      ],
      "execution_count": 0,
      "outputs": [
        {
          "output_type": "stream",
          "text": [
            "Model: \"sequential_38\"\n",
            "_________________________________________________________________\n",
            "Layer (type)                 Output Shape              Param #   \n",
            "=================================================================\n",
            "embedding_25 (Embedding)     (None, None, 50)          4700      \n",
            "_________________________________________________________________\n",
            "simple_rnn_21 (SimpleRNN)    (None, 32)                2656      \n",
            "_________________________________________________________________\n",
            "dense_49 (Dense)             (None, 15)                495       \n",
            "=================================================================\n",
            "Total params: 7,851\n",
            "Trainable params: 7,851\n",
            "Non-trainable params: 0\n",
            "_________________________________________________________________\n",
            "None\n"
          ],
          "name": "stdout"
        }
      ]
    },
    {
      "cell_type": "code",
      "metadata": {
        "id": "MRwMHCuVSeL4",
        "colab_type": "code",
        "outputId": "e43a59f6-c4ac-4b7b-abf2-99b255972436",
        "colab": {
          "base_uri": "https://localhost:8080/",
          "height": 1000
        }
      },
      "source": [
        "rnn_training = rnn.fit(X_train, y_train, epochs=30, batch_size=128, \n",
        "            validation_data=(X_test, y_test))"
      ],
      "execution_count": 0,
      "outputs": [
        {
          "output_type": "stream",
          "text": [
            "Train on 54562 samples, validate on 23384 samples\n",
            "Epoch 1/30\n",
            "54562/54562 [==============================] - 15s 272us/step - loss: 2.6308 - acc: 0.2923 - val_loss: 2.5529 - val_acc: 0.3174\n",
            "Epoch 2/30\n",
            "54562/54562 [==============================] - 9s 169us/step - loss: 2.5293 - acc: 0.3364 - val_loss: 2.4978 - val_acc: 0.3569\n",
            "Epoch 3/30\n",
            "54562/54562 [==============================] - 9s 166us/step - loss: 2.4669 - acc: 0.3758 - val_loss: 2.4410 - val_acc: 0.3997\n",
            "Epoch 4/30\n",
            "54562/54562 [==============================] - 9s 167us/step - loss: 2.4115 - acc: 0.4117 - val_loss: 2.4048 - val_acc: 0.4210\n",
            "Epoch 5/30\n",
            "54562/54562 [==============================] - 9s 167us/step - loss: 2.3801 - acc: 0.4250 - val_loss: 2.3393 - val_acc: 0.4483\n",
            "Epoch 6/30\n",
            "54562/54562 [==============================] - 9s 166us/step - loss: 2.3620 - acc: 0.4335 - val_loss: 2.4283 - val_acc: 0.3867\n",
            "Epoch 7/30\n",
            "54562/54562 [==============================] - 9s 166us/step - loss: 2.3634 - acc: 0.4223 - val_loss: 2.3738 - val_acc: 0.4149\n",
            "Epoch 8/30\n",
            "54562/54562 [==============================] - 9s 164us/step - loss: 2.3500 - acc: 0.4239 - val_loss: 2.4314 - val_acc: 0.3842\n",
            "Epoch 9/30\n",
            "54562/54562 [==============================] - 9s 164us/step - loss: 2.3139 - acc: 0.4432 - val_loss: 2.2884 - val_acc: 0.4531\n",
            "Epoch 10/30\n",
            "54562/54562 [==============================] - 9s 164us/step - loss: 2.2830 - acc: 0.4545 - val_loss: 2.2767 - val_acc: 0.4577\n",
            "Epoch 11/30\n",
            "54562/54562 [==============================] - 9s 166us/step - loss: 2.2816 - acc: 0.4538 - val_loss: 2.2771 - val_acc: 0.4524\n",
            "Epoch 12/30\n",
            "54562/54562 [==============================] - 9s 166us/step - loss: 2.2520 - acc: 0.4613 - val_loss: 2.2606 - val_acc: 0.4666\n",
            "Epoch 13/30\n",
            "54562/54562 [==============================] - 9s 166us/step - loss: 2.2587 - acc: 0.4618 - val_loss: 2.3414 - val_acc: 0.4216\n",
            "Epoch 14/30\n",
            "54562/54562 [==============================] - 9s 164us/step - loss: 2.2160 - acc: 0.4811 - val_loss: 2.1975 - val_acc: 0.4918\n",
            "Epoch 15/30\n",
            "54562/54562 [==============================] - 9s 165us/step - loss: 2.1799 - acc: 0.4970 - val_loss: 2.1907 - val_acc: 0.4980\n",
            "Epoch 16/30\n",
            "54562/54562 [==============================] - 9s 164us/step - loss: 2.1698 - acc: 0.5026 - val_loss: 2.1477 - val_acc: 0.5104\n",
            "Epoch 17/30\n",
            "54562/54562 [==============================] - 9s 164us/step - loss: 2.1466 - acc: 0.5076 - val_loss: 2.1597 - val_acc: 0.5034\n",
            "Epoch 18/30\n",
            "54562/54562 [==============================] - 9s 167us/step - loss: 2.1408 - acc: 0.5082 - val_loss: 2.1957 - val_acc: 0.4870\n",
            "Epoch 19/30\n",
            "54562/54562 [==============================] - 9s 166us/step - loss: 2.1772 - acc: 0.4920 - val_loss: 2.1594 - val_acc: 0.4956\n",
            "Epoch 20/30\n",
            "54562/54562 [==============================] - 9s 164us/step - loss: 2.1597 - acc: 0.4988 - val_loss: 2.1403 - val_acc: 0.5020\n",
            "Epoch 21/30\n",
            "54562/54562 [==============================] - 9s 167us/step - loss: 2.1132 - acc: 0.5163 - val_loss: 2.1177 - val_acc: 0.5271\n",
            "Epoch 22/30\n",
            "54562/54562 [==============================] - 9s 166us/step - loss: 2.1013 - acc: 0.5252 - val_loss: 2.1292 - val_acc: 0.5065\n",
            "Epoch 23/30\n",
            "54562/54562 [==============================] - 9s 169us/step - loss: 2.0843 - acc: 0.5345 - val_loss: 2.0877 - val_acc: 0.5403\n",
            "Epoch 24/30\n",
            "54562/54562 [==============================] - 9s 168us/step - loss: 2.0694 - acc: 0.5415 - val_loss: 2.0720 - val_acc: 0.5498\n",
            "Epoch 25/30\n",
            "54562/54562 [==============================] - 9s 164us/step - loss: 2.0751 - acc: 0.5430 - val_loss: 2.0660 - val_acc: 0.5534\n",
            "Epoch 26/30\n",
            "54562/54562 [==============================] - 9s 164us/step - loss: 2.0753 - acc: 0.5461 - val_loss: 2.0669 - val_acc: 0.5507\n",
            "Epoch 27/30\n",
            "54562/54562 [==============================] - 9s 165us/step - loss: 2.0505 - acc: 0.5572 - val_loss: 2.1167 - val_acc: 0.5335\n",
            "Epoch 28/30\n",
            "54562/54562 [==============================] - 9s 167us/step - loss: 2.0564 - acc: 0.5552 - val_loss: 2.0930 - val_acc: 0.5441\n",
            "Epoch 29/30\n",
            "54562/54562 [==============================] - 9s 166us/step - loss: 2.0354 - acc: 0.5634 - val_loss: 2.0906 - val_acc: 0.5455\n",
            "Epoch 30/30\n",
            "54562/54562 [==============================] - 9s 166us/step - loss: 2.0349 - acc: 0.5615 - val_loss: 2.0344 - val_acc: 0.5572\n"
          ],
          "name": "stdout"
        }
      ]
    },
    {
      "cell_type": "code",
      "metadata": {
        "id": "yJmXrxKWCgwu",
        "colab_type": "code",
        "outputId": "aede7c26-5a5d-41d2-8da9-096fcaf450a6",
        "colab": {
          "base_uri": "https://localhost:8080/",
          "height": 314
        }
      },
      "source": [
        "plt.plot(range(1,31),rnn_training.history[\"acc\"],label='training')\n",
        "plt.plot(range(1,31),rnn_training.history['val_acc'],label='test')\n",
        "plt.title('Training and validation accuracy')\n",
        "plt.legend(loc = 'lower right')\n",
        "plt.figure()"
      ],
      "execution_count": 0,
      "outputs": [
        {
          "output_type": "execute_result",
          "data": {
            "text/plain": [
              "<Figure size 432x288 with 0 Axes>"
            ]
          },
          "metadata": {
            "tags": []
          },
          "execution_count": 333
        },
        {
          "output_type": "display_data",
          "data": {
            "image/png": "[encoded data removed]",
            "text/plain": [
              "<Figure size 432x288 with 1 Axes>"
            ]
          },
          "metadata": {
            "tags": []
          }
        },
        {
          "output_type": "display_data",
          "data": {
            "text/plain": [
              "<Figure size 432x288 with 0 Axes>"
            ]
          },
          "metadata": {
            "tags": []
          }
        }
      ]
    },
    {
      "cell_type": "code",
      "metadata": {
        "id": "dj5VHPRjCg1k",
        "colab_type": "code",
        "outputId": "8191457a-7bb5-48ac-f9f3-753848fe6436",
        "colab": {
          "base_uri": "https://localhost:8080/",
          "height": 314
        }
      },
      "source": [
        "plt.plot(range(1,31),rnn_training.history[\"loss\"],label='training')\n",
        "plt.plot(range(1,31),rnn_training.history['val_loss'],label='test')\n",
        "plt.title('Training and validation loss')\n",
        "plt.legend(loc = 'upper right')\n",
        "plt.figure()"
      ],
      "execution_count": 0,
      "outputs": [
        {
          "output_type": "execute_result",
          "data": {
            "text/plain": [
              "<Figure size 432x288 with 0 Axes>"
            ]
          },
          "metadata": {
            "tags": []
          },
          "execution_count": 334
        },
        {
          "output_type": "display_data",
          "data": {
            "image/png": "[encoded data removed]",
            "text/plain": [
              "<Figure size 432x288 with 1 Axes>"
            ]
          },
          "metadata": {
            "tags": []
          }
        },
        {
          "output_type": "display_data",
          "data": {
            "text/plain": [
              "<Figure size 432x288 with 0 Axes>"
            ]
          },
          "metadata": {
            "tags": []
          }
        }
      ]
    },
    {
      "cell_type": "markdown",
      "metadata": {
        "id": "Shzo_geRgFc1",
        "colab_type": "text"
      },
      "source": [
        "sigmoid:"
      ]
    },
    {
      "cell_type": "code",
      "metadata": {
        "id": "_xhpwYb4Cg5-",
        "colab_type": "code",
        "colab": {
          "base_uri": "https://localhost:8080/",
          "height": 116
        },
        "outputId": "7d2dd00e-0b98-491a-af3f-70688d26806c"
      },
      "source": [
        "rnn1 = Sequential()\n",
        "rnn1.add(Embedding(max_features, maxlen))\n",
        "rnn1.add(SimpleRNN(32))\n",
        "rnn1.add(Dense(15, activation='sigmoid'))"
      ],
      "execution_count": 16,
      "outputs": [
        {
          "output_type": "stream",
          "text": [
            "WARNING:tensorflow:From /usr/local/lib/python3.6/dist-packages/keras/backend/tensorflow_backend.py:66: The name tf.get_default_graph is deprecated. Please use tf.compat.v1.get_default_graph instead.\n",
            "\n",
            "WARNING:tensorflow:From /usr/local/lib/python3.6/dist-packages/keras/backend/tensorflow_backend.py:541: The name tf.placeholder is deprecated. Please use tf.compat.v1.placeholder instead.\n",
            "\n",
            "WARNING:tensorflow:From /usr/local/lib/python3.6/dist-packages/keras/backend/tensorflow_backend.py:4432: The name tf.random_uniform is deprecated. Please use tf.random.uniform instead.\n",
            "\n"
          ],
          "name": "stdout"
        }
      ]
    },
    {
      "cell_type": "code",
      "metadata": {
        "id": "jGOBJrrhCg8V",
        "colab_type": "code",
        "colab": {
          "base_uri": "https://localhost:8080/",
          "height": 133
        },
        "outputId": "ce047cc3-9d51-4572-b3da-7ef55553e0fc"
      },
      "source": [
        "rnn1.compile(optimizer=\"rmsprop\", loss=\"binary_crossentropy\", metrics=[\"acc\"])"
      ],
      "execution_count": 17,
      "outputs": [
        {
          "output_type": "stream",
          "text": [
            "WARNING:tensorflow:From /usr/local/lib/python3.6/dist-packages/keras/optimizers.py:793: The name tf.train.Optimizer is deprecated. Please use tf.compat.v1.train.Optimizer instead.\n",
            "\n",
            "WARNING:tensorflow:From /usr/local/lib/python3.6/dist-packages/keras/backend/tensorflow_backend.py:3657: The name tf.log is deprecated. Please use tf.math.log instead.\n",
            "\n",
            "WARNING:tensorflow:From /usr/local/lib/python3.6/dist-packages/tensorflow_core/python/ops/nn_impl.py:183: where (from tensorflow.python.ops.array_ops) is deprecated and will be removed in a future version.\n",
            "Instructions for updating:\n",
            "Use tf.where in 2.0, which has the same broadcast rule as np.where\n"
          ],
          "name": "stdout"
        }
      ]
    },
    {
      "cell_type": "code",
      "metadata": {
        "id": "BzAtBvoMCg-7",
        "colab_type": "code",
        "outputId": "884741f9-ae9a-4681-a633-3dbf19644dc0",
        "colab": {
          "base_uri": "https://localhost:8080/",
          "height": 1000
        }
      },
      "source": [
        "rnn1_training = rnn1.fit(X_train, y_train, epochs=30, batch_size=128, \n",
        "            validation_data=(X_test, y_test))"
      ],
      "execution_count": 18,
      "outputs": [
        {
          "output_type": "stream",
          "text": [
            "WARNING:tensorflow:From /usr/local/lib/python3.6/dist-packages/keras/backend/tensorflow_backend.py:1033: The name tf.assign_add is deprecated. Please use tf.compat.v1.assign_add instead.\n",
            "\n",
            "WARNING:tensorflow:From /usr/local/lib/python3.6/dist-packages/keras/backend/tensorflow_backend.py:1020: The name tf.assign is deprecated. Please use tf.compat.v1.assign instead.\n",
            "\n",
            "WARNING:tensorflow:From /usr/local/lib/python3.6/dist-packages/keras/backend/tensorflow_backend.py:3005: The name tf.Session is deprecated. Please use tf.compat.v1.Session instead.\n",
            "\n",
            "Train on 54562 samples, validate on 23384 samples\n",
            "Epoch 1/30\n",
            "WARNING:tensorflow:From /usr/local/lib/python3.6/dist-packages/keras/backend/tensorflow_backend.py:190: The name tf.get_default_session is deprecated. Please use tf.compat.v1.get_default_session instead.\n",
            "\n",
            "WARNING:tensorflow:From /usr/local/lib/python3.6/dist-packages/keras/backend/tensorflow_backend.py:197: The name tf.ConfigProto is deprecated. Please use tf.compat.v1.ConfigProto instead.\n",
            "\n",
            "WARNING:tensorflow:From /usr/local/lib/python3.6/dist-packages/keras/backend/tensorflow_backend.py:207: The name tf.global_variables is deprecated. Please use tf.compat.v1.global_variables instead.\n",
            "\n",
            "WARNING:tensorflow:From /usr/local/lib/python3.6/dist-packages/keras/backend/tensorflow_backend.py:216: The name tf.is_variable_initialized is deprecated. Please use tf.compat.v1.is_variable_initialized instead.\n",
            "\n",
            "WARNING:tensorflow:From /usr/local/lib/python3.6/dist-packages/keras/backend/tensorflow_backend.py:223: The name tf.variables_initializer is deprecated. Please use tf.compat.v1.variables_initializer instead.\n",
            "\n",
            "54562/54562 [==============================] - 12s 212us/step - loss: 0.2578 - acc: 0.8679 - val_loss: 0.2312 - val_acc: 0.8743\n",
            "Epoch 2/30\n",
            "54562/54562 [==============================] - 7s 137us/step - loss: 0.2310 - acc: 0.8748 - val_loss: 0.2297 - val_acc: 0.8744\n",
            "Epoch 3/30\n",
            "54562/54562 [==============================] - 7s 137us/step - loss: 0.2294 - acc: 0.8747 - val_loss: 0.2262 - val_acc: 0.8743\n",
            "Epoch 4/30\n",
            "54562/54562 [==============================] - 7s 134us/step - loss: 0.2277 - acc: 0.8747 - val_loss: 0.2360 - val_acc: 0.8691\n",
            "Epoch 5/30\n",
            "54562/54562 [==============================] - 8s 139us/step - loss: 0.2264 - acc: 0.8741 - val_loss: 0.2244 - val_acc: 0.8747\n",
            "Epoch 6/30\n",
            "54562/54562 [==============================] - 8s 140us/step - loss: 0.2237 - acc: 0.8745 - val_loss: 0.2204 - val_acc: 0.8747\n",
            "Epoch 7/30\n",
            "54562/54562 [==============================] - 8s 138us/step - loss: 0.2219 - acc: 0.8747 - val_loss: 0.2201 - val_acc: 0.8745\n",
            "Epoch 8/30\n",
            "54562/54562 [==============================] - 8s 142us/step - loss: 0.2197 - acc: 0.8756 - val_loss: 0.2181 - val_acc: 0.8745\n",
            "Epoch 9/30\n",
            "54562/54562 [==============================] - 8s 143us/step - loss: 0.2174 - acc: 0.8755 - val_loss: 0.2166 - val_acc: 0.8744\n",
            "Epoch 10/30\n",
            "54562/54562 [==============================] - 8s 142us/step - loss: 0.2133 - acc: 0.8762 - val_loss: 0.2157 - val_acc: 0.8748\n",
            "Epoch 11/30\n",
            "54562/54562 [==============================] - 8s 139us/step - loss: 0.2120 - acc: 0.8772 - val_loss: 0.2091 - val_acc: 0.8778\n",
            "Epoch 12/30\n",
            "54562/54562 [==============================] - 8s 140us/step - loss: 0.2136 - acc: 0.8773 - val_loss: 0.2180 - val_acc: 0.8772\n",
            "Epoch 13/30\n",
            "54562/54562 [==============================] - 7s 136us/step - loss: 0.2136 - acc: 0.8767 - val_loss: 0.2139 - val_acc: 0.8768\n",
            "Epoch 14/30\n",
            "54562/54562 [==============================] - 8s 140us/step - loss: 0.2110 - acc: 0.8791 - val_loss: 0.2092 - val_acc: 0.8790\n",
            "Epoch 15/30\n",
            "54562/54562 [==============================] - 8s 152us/step - loss: 0.2116 - acc: 0.8784 - val_loss: 0.2153 - val_acc: 0.8756\n",
            "Epoch 16/30\n",
            "54562/54562 [==============================] - 8s 150us/step - loss: 0.2106 - acc: 0.8784 - val_loss: 0.2109 - val_acc: 0.8761\n",
            "Epoch 17/30\n",
            "54562/54562 [==============================] - 8s 149us/step - loss: 0.2097 - acc: 0.8784 - val_loss: 0.2076 - val_acc: 0.8791\n",
            "Epoch 18/30\n",
            "54562/54562 [==============================] - 8s 142us/step - loss: 0.2089 - acc: 0.8789 - val_loss: 0.2117 - val_acc: 0.8787\n",
            "Epoch 19/30\n",
            "54562/54562 [==============================] - 8s 141us/step - loss: 0.2085 - acc: 0.8789 - val_loss: 0.2069 - val_acc: 0.8791\n",
            "Epoch 20/30\n",
            "54562/54562 [==============================] - 7s 135us/step - loss: 0.2072 - acc: 0.8797 - val_loss: 0.2066 - val_acc: 0.8794\n",
            "Epoch 21/30\n",
            "54562/54562 [==============================] - 7s 135us/step - loss: 0.2062 - acc: 0.8797 - val_loss: 0.2102 - val_acc: 0.8775\n",
            "Epoch 22/30\n",
            "54562/54562 [==============================] - 8s 140us/step - loss: 0.2063 - acc: 0.8800 - val_loss: 0.2086 - val_acc: 0.8777\n",
            "Epoch 23/30\n",
            "54562/54562 [==============================] - 8s 138us/step - loss: 0.2064 - acc: 0.8798 - val_loss: 0.2097 - val_acc: 0.8793\n",
            "Epoch 24/30\n",
            "54562/54562 [==============================] - 8s 138us/step - loss: 0.2052 - acc: 0.8805 - val_loss: 0.2048 - val_acc: 0.8805\n",
            "Epoch 25/30\n",
            "54562/54562 [==============================] - 8s 141us/step - loss: 0.2054 - acc: 0.8803 - val_loss: 0.2052 - val_acc: 0.8797\n",
            "Epoch 26/30\n",
            "54562/54562 [==============================] - 8s 138us/step - loss: 0.2051 - acc: 0.8801 - val_loss: 0.2089 - val_acc: 0.8782\n",
            "Epoch 27/30\n",
            "54562/54562 [==============================] - 7s 132us/step - loss: 0.2044 - acc: 0.8803 - val_loss: 0.2046 - val_acc: 0.8794\n",
            "Epoch 28/30\n",
            "54562/54562 [==============================] - 7s 131us/step - loss: 0.2040 - acc: 0.8806 - val_loss: 0.2056 - val_acc: 0.8787\n",
            "Epoch 29/30\n",
            "54562/54562 [==============================] - 7s 129us/step - loss: 0.2040 - acc: 0.8809 - val_loss: 0.2051 - val_acc: 0.8797\n",
            "Epoch 30/30\n",
            "54562/54562 [==============================] - 7s 130us/step - loss: 0.2039 - acc: 0.8809 - val_loss: 0.2032 - val_acc: 0.8800\n"
          ],
          "name": "stdout"
        }
      ]
    },
    {
      "cell_type": "code",
      "metadata": {
        "id": "9ggqqZG_CHhM",
        "colab_type": "code",
        "colab": {}
      },
      "source": [
        "rnn1.predict(X_test[:5])"
      ],
      "execution_count": 0,
      "outputs": []
    },
    {
      "cell_type": "code",
      "metadata": {
        "id": "6VbYQGLOChBi",
        "colab_type": "code",
        "outputId": "77f59c28-e03b-44cf-978b-ad08cd89fcdd",
        "colab": {
          "base_uri": "https://localhost:8080/",
          "height": 314
        }
      },
      "source": [
        "import matplotlib.pyplot as plt\n",
        "plt.plot(range(1,31),rnn1_training.history[\"acc\"],label='training')\n",
        "plt.plot(range(1,31),rnn1_training.history['val_acc'],label='test')\n",
        "plt.title('Training and validation accuracy')\n",
        "plt.legend(loc = 'lower right')\n",
        "plt.figure()"
      ],
      "execution_count": 20,
      "outputs": [
        {
          "output_type": "execute_result",
          "data": {
            "text/plain": [
              "<Figure size 432x288 with 0 Axes>"
            ]
          },
          "metadata": {
            "tags": []
          },
          "execution_count": 20
        },
        {
          "output_type": "display_data",
          "data": {
            "image/png": "[encoded data removed]",
            "text/plain": [
              "<Figure size 432x288 with 1 Axes>"
            ]
          },
          "metadata": {
            "tags": []
          }
        },
        {
          "output_type": "display_data",
          "data": {
            "text/plain": [
              "<Figure size 432x288 with 0 Axes>"
            ]
          },
          "metadata": {
            "tags": []
          }
        }
      ]
    },
    {
      "cell_type": "code",
      "metadata": {
        "id": "PwZE196yCg34",
        "colab_type": "code",
        "outputId": "d12b76d7-3bec-496b-a7b3-d897f7523ca3",
        "colab": {
          "base_uri": "https://localhost:8080/",
          "height": 314
        }
      },
      "source": [
        "plt.plot(range(1,31),rnn1_training.history[\"loss\"],label='training')\n",
        "plt.plot(range(1,31),rnn1_training.history['val_loss'],label='test')\n",
        "plt.title('Training and validation loss')\n",
        "plt.legend(loc = 'upper right')\n",
        "plt.figure()"
      ],
      "execution_count": 21,
      "outputs": [
        {
          "output_type": "execute_result",
          "data": {
            "text/plain": [
              "<Figure size 432x288 with 0 Axes>"
            ]
          },
          "metadata": {
            "tags": []
          },
          "execution_count": 21
        },
        {
          "output_type": "display_data",
          "data": {
            "image/png": "[encoded data removed]",
            "text/plain": [
              "<Figure size 432x288 with 1 Axes>"
            ]
          },
          "metadata": {
            "tags": []
          }
        },
        {
          "output_type": "display_data",
          "data": {
            "text/plain": [
              "<Figure size 432x288 with 0 Axes>"
            ]
          },
          "metadata": {
            "tags": []
          }
        }
      ]
    },
    {
      "cell_type": "code",
      "metadata": {
        "id": "4mJ6XpLNf1-c",
        "colab_type": "code",
        "colab": {}
      },
      "source": [
        ""
      ],
      "execution_count": 0,
      "outputs": []
    },
    {
      "cell_type": "markdown",
      "metadata": {
        "id": "aEnYrLvRXFb1",
        "colab_type": "text"
      },
      "source": [
        "#### 3.2 CNN\n",
        "categorical crossentropy:"
      ]
    },
    {
      "cell_type": "code",
      "metadata": {
        "id": "P5qhlSqw4WSr",
        "colab_type": "code",
        "colab": {}
      },
      "source": [
        "from keras.layers import Dense, Flatten, LSTM, Conv1D, MaxPooling1D, Dropout, Activation, GlobalMaxPooling1D"
      ],
      "execution_count": 0,
      "outputs": []
    },
    {
      "cell_type": "code",
      "metadata": {
        "id": "oC5jNeJtXDqO",
        "colab_type": "code",
        "outputId": "3cd0419d-12ec-4b4c-dbd0-76dd75e3268a",
        "colab": {
          "base_uri": "https://localhost:8080/",
          "height": 1000
        }
      },
      "source": [
        "cnn = Sequential()\n",
        "cnn.add(Embedding(max_features, maxlen))\n",
        "cnn.add(Dropout(0.25))\n",
        "cnn.add(Conv1D(64, 5, activation='relu'))\n",
        "cnn.add(GlobalMaxPooling1D())\n",
        "cnn.add(Dense(15, activation='softmax'))\n",
        "cnn.compile(loss='categorical_crossentropy', optimizer='adam', metrics=['accuracy'])\n",
        "\n",
        "cnn_training = cnn.fit(X_train, y_train, epochs=30, batch_size=128, validation_data=(X_test, y_test))"
      ],
      "execution_count": 0,
      "outputs": [
        {
          "output_type": "stream",
          "text": [
            "Train on 54562 samples, validate on 23384 samples\n",
            "Epoch 1/30\n",
            "54562/54562 [==============================] - 8s 154us/step - loss: 2.1145 - acc: 0.5390 - val_loss: 1.7989 - val_acc: 0.6359\n",
            "Epoch 2/30\n",
            "54562/54562 [==============================] - 2s 46us/step - loss: 1.7620 - acc: 0.6504 - val_loss: 1.7244 - val_acc: 0.6569\n",
            "Epoch 3/30\n",
            "54562/54562 [==============================] - 2s 45us/step - loss: 1.7163 - acc: 0.6636 - val_loss: 1.7044 - val_acc: 0.6654\n",
            "Epoch 4/30\n",
            "54562/54562 [==============================] - 3s 46us/step - loss: 1.6931 - acc: 0.6676 - val_loss: 1.6845 - val_acc: 0.6659\n",
            "Epoch 5/30\n",
            "54562/54562 [==============================] - 3s 46us/step - loss: 1.6795 - acc: 0.6706 - val_loss: 1.6747 - val_acc: 0.6707\n",
            "Epoch 6/30\n",
            "54562/54562 [==============================] - 3s 46us/step - loss: 1.6693 - acc: 0.6734 - val_loss: 1.6699 - val_acc: 0.6731\n",
            "Epoch 7/30\n",
            "54562/54562 [==============================] - 2s 45us/step - loss: 1.6604 - acc: 0.6739 - val_loss: 1.6627 - val_acc: 0.6757\n",
            "Epoch 8/30\n",
            "54562/54562 [==============================] - 3s 46us/step - loss: 1.6552 - acc: 0.6753 - val_loss: 1.6590 - val_acc: 0.6773\n",
            "Epoch 9/30\n",
            "54562/54562 [==============================] - 3s 47us/step - loss: 1.6487 - acc: 0.6779 - val_loss: 1.6534 - val_acc: 0.6742\n",
            "Epoch 10/30\n",
            "54562/54562 [==============================] - 3s 48us/step - loss: 1.6425 - acc: 0.6784 - val_loss: 1.6508 - val_acc: 0.6751\n",
            "Epoch 11/30\n",
            "54562/54562 [==============================] - 3s 47us/step - loss: 1.6384 - acc: 0.6802 - val_loss: 1.6535 - val_acc: 0.6768\n",
            "Epoch 12/30\n",
            "54562/54562 [==============================] - 2s 45us/step - loss: 1.6357 - acc: 0.6799 - val_loss: 1.6495 - val_acc: 0.6748\n",
            "Epoch 13/30\n",
            "54562/54562 [==============================] - 3s 48us/step - loss: 1.6311 - acc: 0.6824 - val_loss: 1.6519 - val_acc: 0.6719\n",
            "Epoch 14/30\n",
            "54562/54562 [==============================] - 2s 45us/step - loss: 1.6284 - acc: 0.6806 - val_loss: 1.6468 - val_acc: 0.6741\n",
            "Epoch 15/30\n",
            "54562/54562 [==============================] - 2s 45us/step - loss: 1.6266 - acc: 0.6824 - val_loss: 1.6496 - val_acc: 0.6709\n",
            "Epoch 16/30\n",
            "54562/54562 [==============================] - 3s 47us/step - loss: 1.6206 - acc: 0.6832 - val_loss: 1.6379 - val_acc: 0.6773\n",
            "Epoch 17/30\n",
            "54562/54562 [==============================] - 2s 44us/step - loss: 1.6202 - acc: 0.6821 - val_loss: 1.6374 - val_acc: 0.6777\n",
            "Epoch 18/30\n",
            "54562/54562 [==============================] - 2s 45us/step - loss: 1.6187 - acc: 0.6827 - val_loss: 1.6360 - val_acc: 0.6746\n",
            "Epoch 19/30\n",
            "54562/54562 [==============================] - 2s 45us/step - loss: 1.6143 - acc: 0.6852 - val_loss: 1.6355 - val_acc: 0.6775\n",
            "Epoch 20/30\n",
            "54562/54562 [==============================] - 3s 47us/step - loss: 1.6130 - acc: 0.6838 - val_loss: 1.6354 - val_acc: 0.6768\n",
            "Epoch 21/30\n",
            "54562/54562 [==============================] - 2s 45us/step - loss: 1.6103 - acc: 0.6840 - val_loss: 1.6341 - val_acc: 0.6764\n",
            "Epoch 22/30\n",
            "54562/54562 [==============================] - 2s 44us/step - loss: 1.6086 - acc: 0.6840 - val_loss: 1.6359 - val_acc: 0.6789\n",
            "Epoch 23/30\n",
            "54562/54562 [==============================] - 2s 45us/step - loss: 1.6074 - acc: 0.6860 - val_loss: 1.6342 - val_acc: 0.6776\n",
            "Epoch 24/30\n",
            "54562/54562 [==============================] - 2s 46us/step - loss: 1.6064 - acc: 0.6840 - val_loss: 1.6380 - val_acc: 0.6771\n",
            "Epoch 25/30\n",
            "54562/54562 [==============================] - 3s 46us/step - loss: 1.6050 - acc: 0.6857 - val_loss: 1.6317 - val_acc: 0.6793\n",
            "Epoch 26/30\n",
            "54562/54562 [==============================] - 3s 47us/step - loss: 1.5999 - acc: 0.6868 - val_loss: 1.6378 - val_acc: 0.6778\n",
            "Epoch 27/30\n",
            "54562/54562 [==============================] - 3s 47us/step - loss: 1.6002 - acc: 0.6864 - val_loss: 1.6389 - val_acc: 0.6787\n",
            "Epoch 28/30\n",
            "54562/54562 [==============================] - 2s 46us/step - loss: 1.5987 - acc: 0.6856 - val_loss: 1.6277 - val_acc: 0.6814\n",
            "Epoch 29/30\n",
            "54562/54562 [==============================] - 3s 48us/step - loss: 1.5995 - acc: 0.6853 - val_loss: 1.6271 - val_acc: 0.6777\n",
            "Epoch 30/30\n",
            "54562/54562 [==============================] - 2s 46us/step - loss: 1.6005 - acc: 0.6862 - val_loss: 1.6261 - val_acc: 0.6795\n"
          ],
          "name": "stdout"
        }
      ]
    },
    {
      "cell_type": "code",
      "metadata": {
        "id": "3JVAzNyTdyEl",
        "colab_type": "code",
        "outputId": "5cec8132-a34a-4d7e-a212-e088de099119",
        "colab": {
          "base_uri": "https://localhost:8080/",
          "height": 314
        }
      },
      "source": [
        "plt.plot(range(1,31),cnn_training.history[\"acc\"],label='training')\n",
        "plt.plot(range(1,31),cnn_training.history['val_acc'],label='test')\n",
        "plt.title('Training and validation accuracy')\n",
        "plt.legend(loc = 'lower right')\n",
        "plt.figure()"
      ],
      "execution_count": 0,
      "outputs": [
        {
          "output_type": "execute_result",
          "data": {
            "text/plain": [
              "<Figure size 432x288 with 0 Axes>"
            ]
          },
          "metadata": {
            "tags": []
          },
          "execution_count": 341
        },
        {
          "output_type": "display_data",
          "data": {
            "image/png": "[encoded data removed]",
            "text/plain": [
              "<Figure size 432x288 with 1 Axes>"
            ]
          },
          "metadata": {
            "tags": []
          }
        },
        {
          "output_type": "display_data",
          "data": {
            "text/plain": [
              "<Figure size 432x288 with 0 Axes>"
            ]
          },
          "metadata": {
            "tags": []
          }
        }
      ]
    },
    {
      "cell_type": "code",
      "metadata": {
        "id": "2yHLT04Ldqy5",
        "colab_type": "code",
        "outputId": "26fe1470-f8ab-4a37-e3de-1c96911547c2",
        "colab": {
          "base_uri": "https://localhost:8080/",
          "height": 314
        }
      },
      "source": [
        "plt.plot(range(1,31),cnn_training.history[\"loss\"],label='training')\n",
        "plt.plot(range(1,31),cnn_training.history['val_loss'],label='test')\n",
        "plt.title('Training and validation loss')\n",
        "plt.legend(loc = 'upper right')\n",
        "plt.figure()"
      ],
      "execution_count": 0,
      "outputs": [
        {
          "output_type": "execute_result",
          "data": {
            "text/plain": [
              "<Figure size 432x288 with 0 Axes>"
            ]
          },
          "metadata": {
            "tags": []
          },
          "execution_count": 342
        },
        {
          "output_type": "display_data",
          "data": {
            "image/png": "[encoded data removed]",
            "text/plain": [
              "<Figure size 432x288 with 1 Axes>"
            ]
          },
          "metadata": {
            "tags": []
          }
        },
        {
          "output_type": "display_data",
          "data": {
            "text/plain": [
              "<Figure size 432x288 with 0 Axes>"
            ]
          },
          "metadata": {
            "tags": []
          }
        }
      ]
    },
    {
      "cell_type": "markdown",
      "metadata": {
        "id": "0qzRaBFKgbUy",
        "colab_type": "text"
      },
      "source": [
        "sigmoid:"
      ]
    },
    {
      "cell_type": "code",
      "metadata": {
        "id": "9Yq3sBBqXDtS",
        "colab_type": "code",
        "outputId": "a04241a2-cc67-45c0-cc59-3a66ac1b3b76",
        "colab": {
          "base_uri": "https://localhost:8080/",
          "height": 1000
        }
      },
      "source": [
        "cnn1 = Sequential()\n",
        "cnn1.add(Embedding(max_features, maxlen))\n",
        "cnn1.add(Dropout(0.25))\n",
        "cnn1.add(Conv1D(64, 5, activation='relu'))\n",
        "cnn1.add(GlobalMaxPooling1D())\n",
        "cnn1.add(Dense(15, activation='sigmoid'))\n",
        "cnn1.compile(loss='binary_crossentropy', optimizer='adam',metrics=['acc'])\n",
        "\n",
        "cnn1_training = cnn1.fit(X_train, y_train, epochs=30, batch_size=128, validation_data=(X_test, y_test))"
      ],
      "execution_count": 24,
      "outputs": [
        {
          "output_type": "stream",
          "text": [
            "WARNING:tensorflow:From /usr/local/lib/python3.6/dist-packages/keras/backend/tensorflow_backend.py:148: The name tf.placeholder_with_default is deprecated. Please use tf.compat.v1.placeholder_with_default instead.\n",
            "\n",
            "WARNING:tensorflow:From /usr/local/lib/python3.6/dist-packages/keras/backend/tensorflow_backend.py:3733: calling dropout (from tensorflow.python.ops.nn_ops) with keep_prob is deprecated and will be removed in a future version.\n",
            "Instructions for updating:\n",
            "Please use `rate` instead of `keep_prob`. Rate should be set to `rate = 1 - keep_prob`.\n",
            "Train on 54562 samples, validate on 23384 samples\n",
            "Epoch 1/30\n",
            "54562/54562 [==============================] - 5s 92us/step - loss: 0.2443 - acc: 0.8749 - val_loss: 0.1788 - val_acc: 0.8916\n",
            "Epoch 2/30\n",
            "54562/54562 [==============================] - 2s 41us/step - loss: 0.1687 - acc: 0.8948 - val_loss: 0.1607 - val_acc: 0.8961\n",
            "Epoch 3/30\n",
            "54562/54562 [==============================] - 2s 40us/step - loss: 0.1574 - acc: 0.8981 - val_loss: 0.1542 - val_acc: 0.8982\n",
            "Epoch 4/30\n",
            "54562/54562 [==============================] - 2s 40us/step - loss: 0.1534 - acc: 0.8991 - val_loss: 0.1523 - val_acc: 0.8989\n",
            "Epoch 5/30\n",
            "54562/54562 [==============================] - 2s 42us/step - loss: 0.1514 - acc: 0.8996 - val_loss: 0.1516 - val_acc: 0.8986\n",
            "Epoch 6/30\n",
            "54562/54562 [==============================] - 2s 40us/step - loss: 0.1503 - acc: 0.8998 - val_loss: 0.1503 - val_acc: 0.8993\n",
            "Epoch 7/30\n",
            "54562/54562 [==============================] - 2s 41us/step - loss: 0.1493 - acc: 0.8998 - val_loss: 0.1497 - val_acc: 0.8991\n",
            "Epoch 8/30\n",
            "54562/54562 [==============================] - 2s 40us/step - loss: 0.1487 - acc: 0.9000 - val_loss: 0.1490 - val_acc: 0.8990\n",
            "Epoch 9/30\n",
            "54562/54562 [==============================] - 2s 40us/step - loss: 0.1481 - acc: 0.9001 - val_loss: 0.1487 - val_acc: 0.8991\n",
            "Epoch 10/30\n",
            "54562/54562 [==============================] - 2s 39us/step - loss: 0.1475 - acc: 0.9002 - val_loss: 0.1485 - val_acc: 0.8993\n",
            "Epoch 11/30\n",
            "54562/54562 [==============================] - 2s 39us/step - loss: 0.1470 - acc: 0.9002 - val_loss: 0.1483 - val_acc: 0.8995\n",
            "Epoch 12/30\n",
            "54562/54562 [==============================] - 2s 40us/step - loss: 0.1466 - acc: 0.9004 - val_loss: 0.1477 - val_acc: 0.8992\n",
            "Epoch 13/30\n",
            "54562/54562 [==============================] - 2s 40us/step - loss: 0.1463 - acc: 0.9003 - val_loss: 0.1478 - val_acc: 0.8995\n",
            "Epoch 14/30\n",
            "54562/54562 [==============================] - 2s 40us/step - loss: 0.1460 - acc: 0.9004 - val_loss: 0.1474 - val_acc: 0.8995\n",
            "Epoch 15/30\n",
            "54562/54562 [==============================] - 2s 40us/step - loss: 0.1456 - acc: 0.9005 - val_loss: 0.1473 - val_acc: 0.8993\n",
            "Epoch 16/30\n",
            "54562/54562 [==============================] - 2s 40us/step - loss: 0.1455 - acc: 0.9005 - val_loss: 0.1475 - val_acc: 0.8995\n",
            "Epoch 17/30\n",
            "54562/54562 [==============================] - 2s 40us/step - loss: 0.1452 - acc: 0.9006 - val_loss: 0.1478 - val_acc: 0.8988\n",
            "Epoch 18/30\n",
            "54562/54562 [==============================] - 2s 40us/step - loss: 0.1449 - acc: 0.9007 - val_loss: 0.1471 - val_acc: 0.8995\n",
            "Epoch 19/30\n",
            "54562/54562 [==============================] - 2s 40us/step - loss: 0.1448 - acc: 0.9007 - val_loss: 0.1471 - val_acc: 0.8995\n",
            "Epoch 20/30\n",
            "54562/54562 [==============================] - 2s 39us/step - loss: 0.1445 - acc: 0.9008 - val_loss: 0.1472 - val_acc: 0.8995\n",
            "Epoch 21/30\n",
            "54562/54562 [==============================] - 2s 41us/step - loss: 0.1443 - acc: 0.9008 - val_loss: 0.1479 - val_acc: 0.8993\n",
            "Epoch 22/30\n",
            "54562/54562 [==============================] - 2s 40us/step - loss: 0.1441 - acc: 0.9008 - val_loss: 0.1473 - val_acc: 0.8993\n",
            "Epoch 23/30\n",
            "54562/54562 [==============================] - 2s 40us/step - loss: 0.1442 - acc: 0.9008 - val_loss: 0.1467 - val_acc: 0.8994\n",
            "Epoch 24/30\n",
            "54562/54562 [==============================] - 2s 39us/step - loss: 0.1439 - acc: 0.9008 - val_loss: 0.1466 - val_acc: 0.8994\n",
            "Epoch 25/30\n",
            "54562/54562 [==============================] - 2s 41us/step - loss: 0.1438 - acc: 0.9008 - val_loss: 0.1470 - val_acc: 0.8992\n",
            "Epoch 26/30\n",
            "54562/54562 [==============================] - 2s 42us/step - loss: 0.1436 - acc: 0.9009 - val_loss: 0.1466 - val_acc: 0.8995\n",
            "Epoch 27/30\n",
            "54562/54562 [==============================] - 2s 41us/step - loss: 0.1435 - acc: 0.9008 - val_loss: 0.1466 - val_acc: 0.8994\n",
            "Epoch 28/30\n",
            "54562/54562 [==============================] - 2s 42us/step - loss: 0.1433 - acc: 0.9009 - val_loss: 0.1471 - val_acc: 0.8990\n",
            "Epoch 29/30\n",
            "54562/54562 [==============================] - 2s 41us/step - loss: 0.1432 - acc: 0.9010 - val_loss: 0.1460 - val_acc: 0.8996\n",
            "Epoch 30/30\n",
            "54562/54562 [==============================] - 2s 39us/step - loss: 0.1432 - acc: 0.9010 - val_loss: 0.1457 - val_acc: 0.8998\n"
          ],
          "name": "stdout"
        }
      ]
    },
    {
      "cell_type": "code",
      "metadata": {
        "id": "oH2w-XGUXDxN",
        "colab_type": "code",
        "outputId": "f4b53914-8dca-4c0a-8cd9-42faa27ec747",
        "colab": {
          "base_uri": "https://localhost:8080/",
          "height": 314
        }
      },
      "source": [
        "plt.plot(range(1,31),cnn1_training.history[\"acc\"],label='training')\n",
        "plt.plot(range(1,31),cnn1_training.history['val_acc'],label='test')\n",
        "plt.title('Training and validation accuracy')\n",
        "plt.legend(loc = 'lower right')\n",
        "plt.figure()"
      ],
      "execution_count": 25,
      "outputs": [
        {
          "output_type": "execute_result",
          "data": {
            "text/plain": [
              "<Figure size 432x288 with 0 Axes>"
            ]
          },
          "metadata": {
            "tags": []
          },
          "execution_count": 25
        },
        {
          "output_type": "display_data",
          "data": {
            "image/png": "[encoded data removed]",
            "text/plain": [
              "<Figure size 432x288 with 1 Axes>"
            ]
          },
          "metadata": {
            "tags": []
          }
        },
        {
          "output_type": "display_data",
          "data": {
            "text/plain": [
              "<Figure size 432x288 with 0 Axes>"
            ]
          },
          "metadata": {
            "tags": []
          }
        }
      ]
    },
    {
      "cell_type": "code",
      "metadata": {
        "id": "6GDRwcwwXD2B",
        "colab_type": "code",
        "outputId": "ee416020-b8b1-4951-dae4-eb01fc8a8395",
        "colab": {
          "base_uri": "https://localhost:8080/",
          "height": 314
        }
      },
      "source": [
        "plt.plot(range(1,31),cnn1_training.history[\"loss\"],label='training')\n",
        "plt.plot(range(1,31),cnn1_training.history['val_loss'],label='test')\n",
        "plt.title('Training and validation loss')\n",
        "plt.legend(loc = 'upper right')\n",
        "plt.figure()"
      ],
      "execution_count": 26,
      "outputs": [
        {
          "output_type": "execute_result",
          "data": {
            "text/plain": [
              "<Figure size 432x288 with 0 Axes>"
            ]
          },
          "metadata": {
            "tags": []
          },
          "execution_count": 26
        },
        {
          "output_type": "display_data",
          "data": {
            "image/png": "[encoded data removed]",
            "text/plain": [
              "<Figure size 432x288 with 1 Axes>"
            ]
          },
          "metadata": {
            "tags": []
          }
        },
        {
          "output_type": "display_data",
          "data": {
            "text/plain": [
              "<Figure size 432x288 with 0 Axes>"
            ]
          },
          "metadata": {
            "tags": []
          }
        }
      ]
    },
    {
      "cell_type": "markdown",
      "metadata": {
        "id": "15aY622meEfx",
        "colab_type": "text"
      },
      "source": [
        "#### 3.3 \n",
        "Both RNN and CNN show that use sigmoid outputs are better."
      ]
    },
    {
      "cell_type": "code",
      "metadata": {
        "id": "EZshf-dOXD4u",
        "colab_type": "code",
        "outputId": "0dea27e4-21c3-4977-84dc-a3a464792499",
        "colab": {
          "base_uri": "https://localhost:8080/",
          "height": 314
        }
      },
      "source": [
        "plt.plot(range(1,31),rnn1_training.history[\"acc\"],label='rnn training',color='b')\n",
        "plt.plot(range(1,31),rnn1_training.history['val_acc'],label='rnn test',linestyle='dashed',color='b')\n",
        "plt.plot(range(1,31),cnn1_training.history[\"acc\"],label='cnn training',color='orange')\n",
        "plt.plot(range(1,31),cnn1_training.history['val_acc'],label='cnn test',linestyle='dashed',color='orange')\n",
        "plt.legend(loc = 'best')\n",
        "plt.title('RNN and CNN training and validation accuracy')\n",
        "plt.figure()"
      ],
      "execution_count": 27,
      "outputs": [
        {
          "output_type": "execute_result",
          "data": {
            "text/plain": [
              "<Figure size 432x288 with 0 Axes>"
            ]
          },
          "metadata": {
            "tags": []
          },
          "execution_count": 27
        },
        {
          "output_type": "display_data",
          "data": {
            "image/png": "[encoded data removed]",
            "text/plain": [
              "<Figure size 432x288 with 1 Axes>"
            ]
          },
          "metadata": {
            "tags": []
          }
        },
        {
          "output_type": "display_data",
          "data": {
            "text/plain": [
              "<Figure size 432x288 with 0 Axes>"
            ]
          },
          "metadata": {
            "tags": []
          }
        }
      ]
    },
    {
      "cell_type": "code",
      "metadata": {
        "id": "s0UKVt-IXDzz",
        "colab_type": "code",
        "outputId": "3981cbbe-c292-43a9-f7d8-7507c587b88a",
        "colab": {
          "base_uri": "https://localhost:8080/",
          "height": 314
        }
      },
      "source": [
        "plt.plot(range(1,31),rnn1_training.history[\"loss\"],label='rnn training',color='b')\n",
        "plt.plot(range(1,31),rnn1_training.history['val_loss'],label='rnn test',linestyle='dashed',color='b')\n",
        "plt.plot(range(1,31),cnn1_training.history[\"loss\"],label='cnn training',color='orange')\n",
        "plt.plot(range(1,31),cnn1_training.history['val_loss'],label='cnn test',linestyle='dashed',color='orange')\n",
        "plt.legend(loc = 'best')\n",
        "plt.title('RNN and CNN training and validation loss')\n",
        "plt.figure()"
      ],
      "execution_count": 30,
      "outputs": [
        {
          "output_type": "execute_result",
          "data": {
            "text/plain": [
              "<Figure size 432x288 with 0 Axes>"
            ]
          },
          "metadata": {
            "tags": []
          },
          "execution_count": 30
        },
        {
          "output_type": "display_data",
          "data": {
            "image/png": "[encoded data removed]",
            "text/plain": [
              "<Figure size 432x288 with 1 Axes>"
            ]
          },
          "metadata": {
            "tags": []
          }
        },
        {
          "output_type": "display_data",
          "data": {
            "text/plain": [
              "<Figure size 432x288 with 0 Axes>"
            ]
          },
          "metadata": {
            "tags": []
          }
        }
      ]
    },
    {
      "cell_type": "code",
      "metadata": {
        "id": "-ZM1popOiPsU",
        "colab_type": "code",
        "colab": {}
      },
      "source": [
        "from sklearn.metrics import roc_curve, auc\n",
        "import numpy as np"
      ],
      "execution_count": 0,
      "outputs": []
    },
    {
      "cell_type": "code",
      "metadata": {
        "id": "haOHiSOfk1UQ",
        "colab_type": "code",
        "colab": {}
      },
      "source": [
        "y_pred_rnn = rnn1.predict(X_test)\n",
        "y_pred_cnn = cnn1.predict(X_test)"
      ],
      "execution_count": 0,
      "outputs": []
    },
    {
      "cell_type": "code",
      "metadata": {
        "id": "t35Fai9kjgkR",
        "colab_type": "code",
        "colab": {}
      },
      "source": [
        "fpr = dict()\n",
        "tpr = dict()\n",
        "roc_auc = dict()\n",
        "for i in range(15):\n",
        "    pred = [j == max(y_test.iloc[i]) for j in y_test.iloc[i]]\n",
        "    fpr[i], tpr[i], _ = roc_curve(pred, np.array(y_pred_cnn[i]))\n",
        "    roc_auc[i] = auc(fpr[i], tpr[i])\n",
        "fpr1 = dict()\n",
        "tpr1 = dict()\n",
        "roc_auc1 = dict()\n",
        "for i in range(15):\n",
        "    pred = [j == max(y_test.iloc[i]) for j in y_test.iloc[i]]\n",
        "    fpr1[i], tpr1[i], _ = roc_curve(pred, np.array(y_pred_rnn[i]))\n",
        "    roc_auc1[i] = auc(fpr1[i], tpr1[i])"
      ],
      "execution_count": 0,
      "outputs": []
    },
    {
      "cell_type": "code",
      "metadata": {
        "id": "P5gRlmMS5Gbu",
        "colab_type": "code",
        "colab": {
          "base_uri": "https://localhost:8080/",
          "height": 294
        },
        "outputId": "e562c085-99e8-4dd7-9e21-a1ee514a9753"
      },
      "source": [
        "plt.figure()\n",
        "plt.plot(fpr[2], tpr[2],\n",
        "         lw=2, label='SimpleRNN ROC curve (area = %0.2f)' % roc_auc[2])\n",
        "plt.plot(fpr1[2], tpr1[2],\n",
        "         lw=1, label='CNN ROC curve (area = %0.2f)' % roc_auc[3])\n",
        "plt.plot([0, 1], [0, 1], lw=3, linestyle='--')\n",
        "plt.xlim([-0.1, 1.1])\n",
        "plt.ylim([0.0, 1.1])\n",
        "plt.xlabel('False Positive Rate')\n",
        "plt.ylabel('True Positive Rate')\n",
        "plt.title('ROC Curves')\n",
        "plt.legend(loc=\"lower right\")\n",
        "plt.show()"
      ],
      "execution_count": 43,
      "outputs": [
        {
          "output_type": "display_data",
          "data": {
            "image/png": "[encoded data removed]",
            "text/plain": [
              "<Figure size 432x288 with 1 Axes>"
            ]
          },
          "metadata": {
            "tags": []
          }
        }
      ]
    },
    {
      "cell_type": "markdown",
      "metadata": {
        "id": "LUG23nB0g-EA",
        "colab_type": "text"
      },
      "source": [
        "Both ROC Curves have area 1.  \n",
        "CNN model has higher accuracy rate and lower loss.  \n",
        "Also, CNN model converges faster than RNN model.\n",
        "CNN model perferms lightly better."
      ]
    }
  ]
}